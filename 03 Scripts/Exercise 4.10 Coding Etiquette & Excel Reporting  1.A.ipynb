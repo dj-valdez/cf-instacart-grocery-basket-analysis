{
 "cells": [
  {
   "cell_type": "markdown",
   "id": "fa7f5949",
   "metadata": {},
   "source": [
    "# Exercise 4.10 Coding Etiquette & Excel Reporting 1.A\n"
   ]
  },
  {
   "cell_type": "markdown",
   "id": "b22e9c2c",
   "metadata": {},
   "source": [
    "# Table of contents:\n",
    "\n",
    "# Part 1\n",
    "\n",
    "Question#6: (Continued): Create an appropriate visualization to show the distribution of profiles.\n",
    "\n",
    "Question#7: Aggregate the max, mean, and min variables on a customer-profile level for usage frequency and expenditure.\n",
    "\n",
    "Question#8: Compare your customer profiles with regions and departments. Can you identify a link between them? Customers may demonstrate different behaviors across regions, which could make this information important.\n",
    "\n",
    "Question#9: Produce suitable charts to illustrate your results and export them in your project folder."
   ]
  },
  {
   "cell_type": "code",
   "execution_count": 1,
   "id": "3cc266f0",
   "metadata": {},
   "outputs": [],
   "source": [
    "# Import libraries\n",
    "import pandas as pd\n",
    "import numpy as np\n",
    "import os\n",
    "import matplotlib.pyplot as plt\n",
    "import seaborn as sns\n",
    "import scipy"
   ]
  },
  {
   "cell_type": "code",
   "execution_count": 2,
   "id": "82cf1267",
   "metadata": {},
   "outputs": [],
   "source": [
    "# Assign path\n",
    "path = r'C:\\Users\\djval\\Google Drive\\Career\\Career Foundry\\Data Immerson\\Achievement 4\\10-2021 Instacart Basket Analysis'"
   ]
  },
  {
   "cell_type": "code",
   "execution_count": 3,
   "id": "90033f9b",
   "metadata": {},
   "outputs": [
    {
     "data": {
      "text/plain": [
       "'C:\\\\Users\\\\djval\\\\Google Drive\\\\Career\\\\Career Foundry\\\\Data Immerson\\\\Achievement 4\\\\10-2021 Instacart Basket Analysis'"
      ]
     },
     "execution_count": 3,
     "metadata": {},
     "output_type": "execute_result"
    }
   ],
   "source": [
    "path"
   ]
  },
  {
   "cell_type": "code",
   "execution_count": 4,
   "id": "61d7944c",
   "metadata": {},
   "outputs": [],
   "source": [
    "# Import latest exported data set \n",
    "df_ords_prods_cust_merged_3 = pd.read_pickle(os.path.join(path,'02 Data','Prepared Data','orders_products_merged_7.pkl'))"
   ]
  },
  {
   "cell_type": "code",
   "execution_count": 5,
   "id": "9e58f190",
   "metadata": {},
   "outputs": [
    {
     "data": {
      "text/plain": [
       "(32434212, 39)"
      ]
     },
     "execution_count": 5,
     "metadata": {},
     "output_type": "execute_result"
    }
   ],
   "source": [
    "df_ords_prods_cust_merged_3.shape"
   ]
  },
  {
   "cell_type": "code",
   "execution_count": 6,
   "id": "e0aabaae",
   "metadata": {
    "scrolled": true
   },
   "outputs": [
    {
     "data": {
      "text/html": [
       "<div>\n",
       "<style scoped>\n",
       "    .dataframe tbody tr th:only-of-type {\n",
       "        vertical-align: middle;\n",
       "    }\n",
       "\n",
       "    .dataframe tbody tr th {\n",
       "        vertical-align: top;\n",
       "    }\n",
       "\n",
       "    .dataframe thead th {\n",
       "        text-align: right;\n",
       "    }\n",
       "</style>\n",
       "<table border=\"1\" class=\"dataframe\">\n",
       "  <thead>\n",
       "    <tr style=\"text-align: right;\">\n",
       "      <th></th>\n",
       "      <th>order_id</th>\n",
       "      <th>product_id</th>\n",
       "      <th>add_to_cart_order</th>\n",
       "      <th>reordered</th>\n",
       "      <th>user_id</th>\n",
       "      <th>order_number</th>\n",
       "      <th>orders_day_of_week</th>\n",
       "      <th>order_hour_of_day</th>\n",
       "      <th>days_since_prior_order</th>\n",
       "      <th>product_name</th>\n",
       "      <th>...</th>\n",
       "      <th>income</th>\n",
       "      <th>region</th>\n",
       "      <th>exclusion_flag</th>\n",
       "      <th>age_group</th>\n",
       "      <th>income_range</th>\n",
       "      <th>parental_status</th>\n",
       "      <th>weekday</th>\n",
       "      <th>part_of_day</th>\n",
       "      <th>selling_performance</th>\n",
       "      <th>price_range</th>\n",
       "    </tr>\n",
       "  </thead>\n",
       "  <tbody>\n",
       "    <tr>\n",
       "      <th>0</th>\n",
       "      <td>2</td>\n",
       "      <td>33120</td>\n",
       "      <td>1</td>\n",
       "      <td>1</td>\n",
       "      <td>202279</td>\n",
       "      <td>3</td>\n",
       "      <td>5</td>\n",
       "      <td>9</td>\n",
       "      <td>8.0</td>\n",
       "      <td>Organic Egg Whites</td>\n",
       "      <td>...</td>\n",
       "      <td>98119</td>\n",
       "      <td>West</td>\n",
       "      <td>non low activity customer</td>\n",
       "      <td>51-60</td>\n",
       "      <td>080000-120000</td>\n",
       "      <td>parent</td>\n",
       "      <td>Thursday</td>\n",
       "      <td>Morning</td>\n",
       "      <td>Currently not assigned</td>\n",
       "      <td>other</td>\n",
       "    </tr>\n",
       "    <tr>\n",
       "      <th>1</th>\n",
       "      <td>104690</td>\n",
       "      <td>33120</td>\n",
       "      <td>2</td>\n",
       "      <td>1</td>\n",
       "      <td>202279</td>\n",
       "      <td>8</td>\n",
       "      <td>6</td>\n",
       "      <td>10</td>\n",
       "      <td>30.0</td>\n",
       "      <td>Organic Egg Whites</td>\n",
       "      <td>...</td>\n",
       "      <td>98119</td>\n",
       "      <td>West</td>\n",
       "      <td>non low activity customer</td>\n",
       "      <td>51-60</td>\n",
       "      <td>080000-120000</td>\n",
       "      <td>parent</td>\n",
       "      <td>Friday</td>\n",
       "      <td>Morning</td>\n",
       "      <td>Currently not assigned</td>\n",
       "      <td>other</td>\n",
       "    </tr>\n",
       "    <tr>\n",
       "      <th>2</th>\n",
       "      <td>132412</td>\n",
       "      <td>33120</td>\n",
       "      <td>1</td>\n",
       "      <td>1</td>\n",
       "      <td>202279</td>\n",
       "      <td>6</td>\n",
       "      <td>5</td>\n",
       "      <td>9</td>\n",
       "      <td>30.0</td>\n",
       "      <td>Organic Egg Whites</td>\n",
       "      <td>...</td>\n",
       "      <td>98119</td>\n",
       "      <td>West</td>\n",
       "      <td>non low activity customer</td>\n",
       "      <td>51-60</td>\n",
       "      <td>080000-120000</td>\n",
       "      <td>parent</td>\n",
       "      <td>Thursday</td>\n",
       "      <td>Morning</td>\n",
       "      <td>Currently not assigned</td>\n",
       "      <td>other</td>\n",
       "    </tr>\n",
       "    <tr>\n",
       "      <th>3</th>\n",
       "      <td>2808715</td>\n",
       "      <td>33120</td>\n",
       "      <td>1</td>\n",
       "      <td>1</td>\n",
       "      <td>202279</td>\n",
       "      <td>5</td>\n",
       "      <td>5</td>\n",
       "      <td>13</td>\n",
       "      <td>9.0</td>\n",
       "      <td>Organic Egg Whites</td>\n",
       "      <td>...</td>\n",
       "      <td>98119</td>\n",
       "      <td>West</td>\n",
       "      <td>non low activity customer</td>\n",
       "      <td>51-60</td>\n",
       "      <td>080000-120000</td>\n",
       "      <td>parent</td>\n",
       "      <td>Thursday</td>\n",
       "      <td>Afternoon</td>\n",
       "      <td>Currently not assigned</td>\n",
       "      <td>other</td>\n",
       "    </tr>\n",
       "    <tr>\n",
       "      <th>4</th>\n",
       "      <td>2894949</td>\n",
       "      <td>33120</td>\n",
       "      <td>5</td>\n",
       "      <td>0</td>\n",
       "      <td>202279</td>\n",
       "      <td>1</td>\n",
       "      <td>5</td>\n",
       "      <td>9</td>\n",
       "      <td>3.0</td>\n",
       "      <td>Organic Egg Whites</td>\n",
       "      <td>...</td>\n",
       "      <td>98119</td>\n",
       "      <td>West</td>\n",
       "      <td>non low activity customer</td>\n",
       "      <td>51-60</td>\n",
       "      <td>080000-120000</td>\n",
       "      <td>parent</td>\n",
       "      <td>Thursday</td>\n",
       "      <td>Morning</td>\n",
       "      <td>Currently not assigned</td>\n",
       "      <td>other</td>\n",
       "    </tr>\n",
       "  </tbody>\n",
       "</table>\n",
       "<p>5 rows × 39 columns</p>\n",
       "</div>"
      ],
      "text/plain": [
       "   order_id  product_id  add_to_cart_order  reordered user_id  order_number  \\\n",
       "0         2       33120                  1          1  202279             3   \n",
       "1    104690       33120                  2          1  202279             8   \n",
       "2    132412       33120                  1          1  202279             6   \n",
       "3   2808715       33120                  1          1  202279             5   \n",
       "4   2894949       33120                  5          0  202279             1   \n",
       "\n",
       "   orders_day_of_week  order_hour_of_day  days_since_prior_order  \\\n",
       "0                   5                  9                     8.0   \n",
       "1                   6                 10                    30.0   \n",
       "2                   5                  9                    30.0   \n",
       "3                   5                 13                     9.0   \n",
       "4                   5                  9                     3.0   \n",
       "\n",
       "         product_name  ...  income  region             exclusion_flag  \\\n",
       "0  Organic Egg Whites  ...   98119    West  non low activity customer   \n",
       "1  Organic Egg Whites  ...   98119    West  non low activity customer   \n",
       "2  Organic Egg Whites  ...   98119    West  non low activity customer   \n",
       "3  Organic Egg Whites  ...   98119    West  non low activity customer   \n",
       "4  Organic Egg Whites  ...   98119    West  non low activity customer   \n",
       "\n",
       "  age_group   income_range parental_status   weekday  part_of_day  \\\n",
       "0     51-60  080000-120000          parent  Thursday      Morning   \n",
       "1     51-60  080000-120000          parent    Friday      Morning   \n",
       "2     51-60  080000-120000          parent  Thursday      Morning   \n",
       "3     51-60  080000-120000          parent  Thursday    Afternoon   \n",
       "4     51-60  080000-120000          parent  Thursday      Morning   \n",
       "\n",
       "      selling_performance  price_range  \n",
       "0  Currently not assigned        other  \n",
       "1  Currently not assigned        other  \n",
       "2  Currently not assigned        other  \n",
       "3  Currently not assigned        other  \n",
       "4  Currently not assigned        other  \n",
       "\n",
       "[5 rows x 39 columns]"
      ]
     },
     "execution_count": 6,
     "metadata": {},
     "output_type": "execute_result"
    }
   ],
   "source": [
    "df_ords_prods_cust_merged_3.head()"
   ]
  },
  {
   "cell_type": "code",
   "execution_count": 7,
   "id": "b91f81ee",
   "metadata": {},
   "outputs": [],
   "source": [
    "# Create subset without outliers\n",
    "df_ords_prods_cust_merged_4 = df_ords_prods_cust_merged_3[df_ords_prods_cust_merged_3['price_range']=='other']"
   ]
  },
  {
   "cell_type": "code",
   "execution_count": 8,
   "id": "8effa026",
   "metadata": {},
   "outputs": [
    {
     "data": {
      "text/plain": [
       "other    32429085\n",
       "Name: price_range, dtype: int64"
      ]
     },
     "execution_count": 8,
     "metadata": {},
     "output_type": "execute_result"
    }
   ],
   "source": [
    "# Check results to make sure no outliers are present\n",
    "df_ords_prods_cust_merged_4['price_range'].value_counts()"
   ]
  },
  {
   "cell_type": "markdown",
   "id": "2a67236e",
   "metadata": {},
   "source": [
    "I need to create departmnet names column"
   ]
  },
  {
   "cell_type": "code",
   "execution_count": 9,
   "id": "06510e76",
   "metadata": {},
   "outputs": [],
   "source": [
    "# Import department data \n",
    "df_dep = pd.read_csv(os.path.join(path, '02 Data', 'Original Data', 'departments.csv'), index_col = False)"
   ]
  },
  {
   "cell_type": "code",
   "execution_count": 10,
   "id": "216cb93e",
   "metadata": {},
   "outputs": [
    {
     "data": {
      "text/html": [
       "<div>\n",
       "<style scoped>\n",
       "    .dataframe tbody tr th:only-of-type {\n",
       "        vertical-align: middle;\n",
       "    }\n",
       "\n",
       "    .dataframe tbody tr th {\n",
       "        vertical-align: top;\n",
       "    }\n",
       "\n",
       "    .dataframe thead th {\n",
       "        text-align: right;\n",
       "    }\n",
       "</style>\n",
       "<table border=\"1\" class=\"dataframe\">\n",
       "  <thead>\n",
       "    <tr style=\"text-align: right;\">\n",
       "      <th></th>\n",
       "      <th>department_id</th>\n",
       "      <th>1</th>\n",
       "      <th>2</th>\n",
       "      <th>3</th>\n",
       "      <th>4</th>\n",
       "      <th>5</th>\n",
       "      <th>6</th>\n",
       "      <th>7</th>\n",
       "      <th>8</th>\n",
       "      <th>9</th>\n",
       "      <th>...</th>\n",
       "      <th>12</th>\n",
       "      <th>13</th>\n",
       "      <th>14</th>\n",
       "      <th>15</th>\n",
       "      <th>16</th>\n",
       "      <th>17</th>\n",
       "      <th>18</th>\n",
       "      <th>19</th>\n",
       "      <th>20</th>\n",
       "      <th>21</th>\n",
       "    </tr>\n",
       "  </thead>\n",
       "  <tbody>\n",
       "    <tr>\n",
       "      <th>0</th>\n",
       "      <td>department</td>\n",
       "      <td>frozen</td>\n",
       "      <td>other</td>\n",
       "      <td>bakery</td>\n",
       "      <td>produce</td>\n",
       "      <td>alcohol</td>\n",
       "      <td>international</td>\n",
       "      <td>beverages</td>\n",
       "      <td>pets</td>\n",
       "      <td>dry goods pasta</td>\n",
       "      <td>...</td>\n",
       "      <td>meat seafood</td>\n",
       "      <td>pantry</td>\n",
       "      <td>breakfast</td>\n",
       "      <td>canned goods</td>\n",
       "      <td>dairy eggs</td>\n",
       "      <td>household</td>\n",
       "      <td>babies</td>\n",
       "      <td>snacks</td>\n",
       "      <td>deli</td>\n",
       "      <td>missing</td>\n",
       "    </tr>\n",
       "  </tbody>\n",
       "</table>\n",
       "<p>1 rows × 22 columns</p>\n",
       "</div>"
      ],
      "text/plain": [
       "  department_id       1      2       3        4        5              6  \\\n",
       "0    department  frozen  other  bakery  produce  alcohol  international   \n",
       "\n",
       "           7     8                9  ...            12      13         14  \\\n",
       "0  beverages  pets  dry goods pasta  ...  meat seafood  pantry  breakfast   \n",
       "\n",
       "             15          16         17      18      19    20       21  \n",
       "0  canned goods  dairy eggs  household  babies  snacks  deli  missing  \n",
       "\n",
       "[1 rows x 22 columns]"
      ]
     },
     "execution_count": 10,
     "metadata": {},
     "output_type": "execute_result"
    }
   ],
   "source": [
    "df_dep.head()"
   ]
  },
  {
   "cell_type": "code",
   "execution_count": 11,
   "id": "12a8d113",
   "metadata": {},
   "outputs": [
    {
     "data": {
      "text/html": [
       "<div>\n",
       "<style scoped>\n",
       "    .dataframe tbody tr th:only-of-type {\n",
       "        vertical-align: middle;\n",
       "    }\n",
       "\n",
       "    .dataframe tbody tr th {\n",
       "        vertical-align: top;\n",
       "    }\n",
       "\n",
       "    .dataframe thead th {\n",
       "        text-align: right;\n",
       "    }\n",
       "</style>\n",
       "<table border=\"1\" class=\"dataframe\">\n",
       "  <thead>\n",
       "    <tr style=\"text-align: right;\">\n",
       "      <th></th>\n",
       "      <th>0</th>\n",
       "    </tr>\n",
       "  </thead>\n",
       "  <tbody>\n",
       "    <tr>\n",
       "      <th>department_id</th>\n",
       "      <td>department</td>\n",
       "    </tr>\n",
       "    <tr>\n",
       "      <th>1</th>\n",
       "      <td>frozen</td>\n",
       "    </tr>\n",
       "    <tr>\n",
       "      <th>2</th>\n",
       "      <td>other</td>\n",
       "    </tr>\n",
       "    <tr>\n",
       "      <th>3</th>\n",
       "      <td>bakery</td>\n",
       "    </tr>\n",
       "    <tr>\n",
       "      <th>4</th>\n",
       "      <td>produce</td>\n",
       "    </tr>\n",
       "    <tr>\n",
       "      <th>5</th>\n",
       "      <td>alcohol</td>\n",
       "    </tr>\n",
       "    <tr>\n",
       "      <th>6</th>\n",
       "      <td>international</td>\n",
       "    </tr>\n",
       "    <tr>\n",
       "      <th>7</th>\n",
       "      <td>beverages</td>\n",
       "    </tr>\n",
       "    <tr>\n",
       "      <th>8</th>\n",
       "      <td>pets</td>\n",
       "    </tr>\n",
       "    <tr>\n",
       "      <th>9</th>\n",
       "      <td>dry goods pasta</td>\n",
       "    </tr>\n",
       "    <tr>\n",
       "      <th>10</th>\n",
       "      <td>bulk</td>\n",
       "    </tr>\n",
       "    <tr>\n",
       "      <th>11</th>\n",
       "      <td>personal care</td>\n",
       "    </tr>\n",
       "    <tr>\n",
       "      <th>12</th>\n",
       "      <td>meat seafood</td>\n",
       "    </tr>\n",
       "    <tr>\n",
       "      <th>13</th>\n",
       "      <td>pantry</td>\n",
       "    </tr>\n",
       "    <tr>\n",
       "      <th>14</th>\n",
       "      <td>breakfast</td>\n",
       "    </tr>\n",
       "    <tr>\n",
       "      <th>15</th>\n",
       "      <td>canned goods</td>\n",
       "    </tr>\n",
       "    <tr>\n",
       "      <th>16</th>\n",
       "      <td>dairy eggs</td>\n",
       "    </tr>\n",
       "    <tr>\n",
       "      <th>17</th>\n",
       "      <td>household</td>\n",
       "    </tr>\n",
       "    <tr>\n",
       "      <th>18</th>\n",
       "      <td>babies</td>\n",
       "    </tr>\n",
       "    <tr>\n",
       "      <th>19</th>\n",
       "      <td>snacks</td>\n",
       "    </tr>\n",
       "    <tr>\n",
       "      <th>20</th>\n",
       "      <td>deli</td>\n",
       "    </tr>\n",
       "    <tr>\n",
       "      <th>21</th>\n",
       "      <td>missing</td>\n",
       "    </tr>\n",
       "  </tbody>\n",
       "</table>\n",
       "</div>"
      ],
      "text/plain": [
       "                             0\n",
       "department_id       department\n",
       "1                       frozen\n",
       "2                        other\n",
       "3                       bakery\n",
       "4                      produce\n",
       "5                      alcohol\n",
       "6                international\n",
       "7                    beverages\n",
       "8                         pets\n",
       "9              dry goods pasta\n",
       "10                        bulk\n",
       "11               personal care\n",
       "12                meat seafood\n",
       "13                      pantry\n",
       "14                   breakfast\n",
       "15                canned goods\n",
       "16                  dairy eggs\n",
       "17                   household\n",
       "18                      babies\n",
       "19                      snacks\n",
       "20                        deli\n",
       "21                     missing"
      ]
     },
     "execution_count": 11,
     "metadata": {},
     "output_type": "execute_result"
    }
   ],
   "source": [
    "# Transpose the table\n",
    "df_dep.T"
   ]
  },
  {
   "cell_type": "code",
   "execution_count": 12,
   "id": "0503123f",
   "metadata": {},
   "outputs": [
    {
     "name": "stderr",
     "output_type": "stream",
     "text": [
      "C:\\Users\\djval\\anaconda3\\lib\\site-packages\\pandas\\core\\indexing.py:1599: SettingWithCopyWarning: \n",
      "A value is trying to be set on a copy of a slice from a DataFrame.\n",
      "Try using .loc[row_indexer,col_indexer] = value instead\n",
      "\n",
      "See the caveats in the documentation: https://pandas.pydata.org/pandas-docs/stable/user_guide/indexing.html#returning-a-view-versus-a-copy\n",
      "  self.obj[key] = infer_fill_value(value)\n",
      "C:\\Users\\djval\\anaconda3\\lib\\site-packages\\pandas\\core\\indexing.py:1720: SettingWithCopyWarning: \n",
      "A value is trying to be set on a copy of a slice from a DataFrame.\n",
      "Try using .loc[row_indexer,col_indexer] = value instead\n",
      "\n",
      "See the caveats in the documentation: https://pandas.pydata.org/pandas-docs/stable/user_guide/indexing.html#returning-a-view-versus-a-copy\n",
      "  self._setitem_single_column(loc, value, pi)\n",
      "C:\\Users\\djval\\anaconda3\\lib\\site-packages\\pandas\\core\\indexing.py:1720: SettingWithCopyWarning: \n",
      "A value is trying to be set on a copy of a slice from a DataFrame.\n",
      "Try using .loc[row_indexer,col_indexer] = value instead\n",
      "\n",
      "See the caveats in the documentation: https://pandas.pydata.org/pandas-docs/stable/user_guide/indexing.html#returning-a-view-versus-a-copy\n",
      "  self._setitem_single_column(loc, value, pi)\n",
      "C:\\Users\\djval\\anaconda3\\lib\\site-packages\\pandas\\core\\indexing.py:1720: SettingWithCopyWarning: \n",
      "A value is trying to be set on a copy of a slice from a DataFrame.\n",
      "Try using .loc[row_indexer,col_indexer] = value instead\n",
      "\n",
      "See the caveats in the documentation: https://pandas.pydata.org/pandas-docs/stable/user_guide/indexing.html#returning-a-view-versus-a-copy\n",
      "  self._setitem_single_column(loc, value, pi)\n",
      "C:\\Users\\djval\\anaconda3\\lib\\site-packages\\pandas\\core\\indexing.py:1720: SettingWithCopyWarning: \n",
      "A value is trying to be set on a copy of a slice from a DataFrame.\n",
      "Try using .loc[row_indexer,col_indexer] = value instead\n",
      "\n",
      "See the caveats in the documentation: https://pandas.pydata.org/pandas-docs/stable/user_guide/indexing.html#returning-a-view-versus-a-copy\n",
      "  self._setitem_single_column(loc, value, pi)\n",
      "C:\\Users\\djval\\anaconda3\\lib\\site-packages\\pandas\\core\\indexing.py:1720: SettingWithCopyWarning: \n",
      "A value is trying to be set on a copy of a slice from a DataFrame.\n",
      "Try using .loc[row_indexer,col_indexer] = value instead\n",
      "\n",
      "See the caveats in the documentation: https://pandas.pydata.org/pandas-docs/stable/user_guide/indexing.html#returning-a-view-versus-a-copy\n",
      "  self._setitem_single_column(loc, value, pi)\n",
      "C:\\Users\\djval\\anaconda3\\lib\\site-packages\\pandas\\core\\indexing.py:1720: SettingWithCopyWarning: \n",
      "A value is trying to be set on a copy of a slice from a DataFrame.\n",
      "Try using .loc[row_indexer,col_indexer] = value instead\n",
      "\n",
      "See the caveats in the documentation: https://pandas.pydata.org/pandas-docs/stable/user_guide/indexing.html#returning-a-view-versus-a-copy\n",
      "  self._setitem_single_column(loc, value, pi)\n",
      "C:\\Users\\djval\\anaconda3\\lib\\site-packages\\pandas\\core\\indexing.py:1720: SettingWithCopyWarning: \n",
      "A value is trying to be set on a copy of a slice from a DataFrame.\n",
      "Try using .loc[row_indexer,col_indexer] = value instead\n",
      "\n",
      "See the caveats in the documentation: https://pandas.pydata.org/pandas-docs/stable/user_guide/indexing.html#returning-a-view-versus-a-copy\n",
      "  self._setitem_single_column(loc, value, pi)\n",
      "C:\\Users\\djval\\anaconda3\\lib\\site-packages\\pandas\\core\\indexing.py:1720: SettingWithCopyWarning: \n",
      "A value is trying to be set on a copy of a slice from a DataFrame.\n",
      "Try using .loc[row_indexer,col_indexer] = value instead\n",
      "\n",
      "See the caveats in the documentation: https://pandas.pydata.org/pandas-docs/stable/user_guide/indexing.html#returning-a-view-versus-a-copy\n",
      "  self._setitem_single_column(loc, value, pi)\n",
      "C:\\Users\\djval\\anaconda3\\lib\\site-packages\\pandas\\core\\indexing.py:1720: SettingWithCopyWarning: \n",
      "A value is trying to be set on a copy of a slice from a DataFrame.\n",
      "Try using .loc[row_indexer,col_indexer] = value instead\n",
      "\n",
      "See the caveats in the documentation: https://pandas.pydata.org/pandas-docs/stable/user_guide/indexing.html#returning-a-view-versus-a-copy\n",
      "  self._setitem_single_column(loc, value, pi)\n",
      "C:\\Users\\djval\\anaconda3\\lib\\site-packages\\pandas\\core\\indexing.py:1720: SettingWithCopyWarning: \n",
      "A value is trying to be set on a copy of a slice from a DataFrame.\n",
      "Try using .loc[row_indexer,col_indexer] = value instead\n",
      "\n",
      "See the caveats in the documentation: https://pandas.pydata.org/pandas-docs/stable/user_guide/indexing.html#returning-a-view-versus-a-copy\n",
      "  self._setitem_single_column(loc, value, pi)\n",
      "C:\\Users\\djval\\anaconda3\\lib\\site-packages\\pandas\\core\\indexing.py:1720: SettingWithCopyWarning: \n",
      "A value is trying to be set on a copy of a slice from a DataFrame.\n",
      "Try using .loc[row_indexer,col_indexer] = value instead\n",
      "\n",
      "See the caveats in the documentation: https://pandas.pydata.org/pandas-docs/stable/user_guide/indexing.html#returning-a-view-versus-a-copy\n",
      "  self._setitem_single_column(loc, value, pi)\n",
      "C:\\Users\\djval\\anaconda3\\lib\\site-packages\\pandas\\core\\indexing.py:1720: SettingWithCopyWarning: \n",
      "A value is trying to be set on a copy of a slice from a DataFrame.\n",
      "Try using .loc[row_indexer,col_indexer] = value instead\n",
      "\n",
      "See the caveats in the documentation: https://pandas.pydata.org/pandas-docs/stable/user_guide/indexing.html#returning-a-view-versus-a-copy\n",
      "  self._setitem_single_column(loc, value, pi)\n",
      "C:\\Users\\djval\\anaconda3\\lib\\site-packages\\pandas\\core\\indexing.py:1720: SettingWithCopyWarning: \n",
      "A value is trying to be set on a copy of a slice from a DataFrame.\n",
      "Try using .loc[row_indexer,col_indexer] = value instead\n",
      "\n",
      "See the caveats in the documentation: https://pandas.pydata.org/pandas-docs/stable/user_guide/indexing.html#returning-a-view-versus-a-copy\n",
      "  self._setitem_single_column(loc, value, pi)\n",
      "C:\\Users\\djval\\anaconda3\\lib\\site-packages\\pandas\\core\\indexing.py:1720: SettingWithCopyWarning: \n",
      "A value is trying to be set on a copy of a slice from a DataFrame.\n",
      "Try using .loc[row_indexer,col_indexer] = value instead\n",
      "\n",
      "See the caveats in the documentation: https://pandas.pydata.org/pandas-docs/stable/user_guide/indexing.html#returning-a-view-versus-a-copy\n",
      "  self._setitem_single_column(loc, value, pi)\n",
      "C:\\Users\\djval\\anaconda3\\lib\\site-packages\\pandas\\core\\indexing.py:1720: SettingWithCopyWarning: \n",
      "A value is trying to be set on a copy of a slice from a DataFrame.\n",
      "Try using .loc[row_indexer,col_indexer] = value instead\n",
      "\n",
      "See the caveats in the documentation: https://pandas.pydata.org/pandas-docs/stable/user_guide/indexing.html#returning-a-view-versus-a-copy\n",
      "  self._setitem_single_column(loc, value, pi)\n",
      "C:\\Users\\djval\\anaconda3\\lib\\site-packages\\pandas\\core\\indexing.py:1720: SettingWithCopyWarning: \n",
      "A value is trying to be set on a copy of a slice from a DataFrame.\n",
      "Try using .loc[row_indexer,col_indexer] = value instead\n",
      "\n",
      "See the caveats in the documentation: https://pandas.pydata.org/pandas-docs/stable/user_guide/indexing.html#returning-a-view-versus-a-copy\n",
      "  self._setitem_single_column(loc, value, pi)\n",
      "C:\\Users\\djval\\anaconda3\\lib\\site-packages\\pandas\\core\\indexing.py:1720: SettingWithCopyWarning: \n",
      "A value is trying to be set on a copy of a slice from a DataFrame.\n",
      "Try using .loc[row_indexer,col_indexer] = value instead\n",
      "\n",
      "See the caveats in the documentation: https://pandas.pydata.org/pandas-docs/stable/user_guide/indexing.html#returning-a-view-versus-a-copy\n",
      "  self._setitem_single_column(loc, value, pi)\n",
      "C:\\Users\\djval\\anaconda3\\lib\\site-packages\\pandas\\core\\indexing.py:1720: SettingWithCopyWarning: \n",
      "A value is trying to be set on a copy of a slice from a DataFrame.\n",
      "Try using .loc[row_indexer,col_indexer] = value instead\n",
      "\n",
      "See the caveats in the documentation: https://pandas.pydata.org/pandas-docs/stable/user_guide/indexing.html#returning-a-view-versus-a-copy\n",
      "  self._setitem_single_column(loc, value, pi)\n",
      "C:\\Users\\djval\\anaconda3\\lib\\site-packages\\pandas\\core\\indexing.py:1720: SettingWithCopyWarning: \n",
      "A value is trying to be set on a copy of a slice from a DataFrame.\n",
      "Try using .loc[row_indexer,col_indexer] = value instead\n",
      "\n",
      "See the caveats in the documentation: https://pandas.pydata.org/pandas-docs/stable/user_guide/indexing.html#returning-a-view-versus-a-copy\n",
      "  self._setitem_single_column(loc, value, pi)\n",
      "C:\\Users\\djval\\anaconda3\\lib\\site-packages\\pandas\\core\\indexing.py:1720: SettingWithCopyWarning: \n",
      "A value is trying to be set on a copy of a slice from a DataFrame.\n",
      "Try using .loc[row_indexer,col_indexer] = value instead\n",
      "\n",
      "See the caveats in the documentation: https://pandas.pydata.org/pandas-docs/stable/user_guide/indexing.html#returning-a-view-versus-a-copy\n",
      "  self._setitem_single_column(loc, value, pi)\n"
     ]
    },
    {
     "name": "stderr",
     "output_type": "stream",
     "text": [
      "C:\\Users\\djval\\anaconda3\\lib\\site-packages\\pandas\\core\\indexing.py:1720: SettingWithCopyWarning: \n",
      "A value is trying to be set on a copy of a slice from a DataFrame.\n",
      "Try using .loc[row_indexer,col_indexer] = value instead\n",
      "\n",
      "See the caveats in the documentation: https://pandas.pydata.org/pandas-docs/stable/user_guide/indexing.html#returning-a-view-versus-a-copy\n",
      "  self._setitem_single_column(loc, value, pi)\n"
     ]
    }
   ],
   "source": [
    "# Creating new column for department names \n",
    "\n",
    "\n",
    "df_ords_prods_cust_merged_4.loc[df_ords_prods_cust_merged_4['department_id'] == 1, 'department_name'] = 'frozen'\n",
    "df_ords_prods_cust_merged_4.loc[df_ords_prods_cust_merged_4['department_id'] == 2, 'department_name'] = 'other'\n",
    "df_ords_prods_cust_merged_4.loc[df_ords_prods_cust_merged_4['department_id'] == 3, 'department_name'] = 'bakery'\n",
    "df_ords_prods_cust_merged_4.loc[df_ords_prods_cust_merged_4['department_id'] == 4, 'department_name'] = 'produce'\n",
    "df_ords_prods_cust_merged_4.loc[df_ords_prods_cust_merged_4['department_id'] == 5, 'department_name'] = 'alcohol'\n",
    "df_ords_prods_cust_merged_4.loc[df_ords_prods_cust_merged_4['department_id'] == 6, 'department_name'] = 'international'\n",
    "df_ords_prods_cust_merged_4.loc[df_ords_prods_cust_merged_4['department_id'] == 7, 'department_name'] = 'beverages'\n",
    "df_ords_prods_cust_merged_4.loc[df_ords_prods_cust_merged_4['department_id'] == 8, 'department_name'] = 'pets'\n",
    "df_ords_prods_cust_merged_4.loc[df_ords_prods_cust_merged_4['department_id'] == 9, 'department_name'] = 'dry goods pasta'\n",
    "df_ords_prods_cust_merged_4.loc[df_ords_prods_cust_merged_4['department_id'] == 10, 'department_name'] = 'bulk'\n",
    "df_ords_prods_cust_merged_4.loc[df_ords_prods_cust_merged_4['department_id'] == 11, 'department_name'] = 'personal care'\n",
    "df_ords_prods_cust_merged_4.loc[df_ords_prods_cust_merged_4['department_id'] == 12, 'department_name'] = 'meat seafood'\n",
    "df_ords_prods_cust_merged_4.loc[df_ords_prods_cust_merged_4['department_id'] == 13, 'department_name'] = 'pantry'\n",
    "df_ords_prods_cust_merged_4.loc[df_ords_prods_cust_merged_4['department_id'] == 14, 'department_name'] = 'breakfast'\n",
    "df_ords_prods_cust_merged_4.loc[df_ords_prods_cust_merged_4['department_id'] == 15, 'department_name'] = 'canned goods'\n",
    "df_ords_prods_cust_merged_4.loc[df_ords_prods_cust_merged_4['department_id'] == 16, 'department_name'] = 'dairy eggs'\n",
    "df_ords_prods_cust_merged_4.loc[df_ords_prods_cust_merged_4['department_id'] == 17, 'department_name'] = 'households'\n",
    "df_ords_prods_cust_merged_4.loc[df_ords_prods_cust_merged_4['department_id'] == 18, 'department_name'] = 'babies'\n",
    "df_ords_prods_cust_merged_4.loc[df_ords_prods_cust_merged_4['department_id'] == 19, 'department_name'] = 'snacks'\n",
    "df_ords_prods_cust_merged_4.loc[df_ords_prods_cust_merged_4['department_id'] == 20, 'department_name'] = 'deli'\n",
    "df_ords_prods_cust_merged_4.loc[df_ords_prods_cust_merged_4['department_id'] == 21, 'department_name'] = 'missing'"
   ]
  },
  {
   "cell_type": "code",
   "execution_count": 13,
   "id": "7e6862a2",
   "metadata": {},
   "outputs": [
    {
     "data": {
      "text/plain": [
       "produce            9479291\n",
       "dairy eggs         5408889\n",
       "snacks             2887550\n",
       "beverages          2688159\n",
       "frozen             2236432\n",
       "pantry             1875577\n",
       "bakery             1176787\n",
       "canned goods       1068058\n",
       "deli               1051249\n",
       "dry goods pasta     866627\n",
       "households          738666\n",
       "breakfast           710647\n",
       "meat seafood        708931\n",
       "personal care       447691\n",
       "babies              423802\n",
       "international       269253\n",
       "alcohol             153743\n",
       "pets                 97724\n",
       "missing              69145\n",
       "other                36291\n",
       "bulk                 34573\n",
       "Name: department_name, dtype: int64"
      ]
     },
     "execution_count": 13,
     "metadata": {},
     "output_type": "execute_result"
    }
   ],
   "source": [
    "# Checking the department column \n",
    "df_ords_prods_cust_merged_4['department_name'].value_counts()"
   ]
  },
  {
   "cell_type": "code",
   "execution_count": 14,
   "id": "1ae87ca4",
   "metadata": {},
   "outputs": [
    {
     "data": {
      "text/plain": [
       "order_id                            int64\n",
       "product_id                          int64\n",
       "add_to_cart_order                   int64\n",
       "reordered                           int64\n",
       "user_id                            object\n",
       "order_number                        int64\n",
       "orders_day_of_week                  int64\n",
       "order_hour_of_day                   int64\n",
       "days_since_prior_order            float64\n",
       "product_name                       object\n",
       "aisle_id                            int64\n",
       "department_id                       int64\n",
       "prices                            float64\n",
       "_merge                           category\n",
       "price_range_loc                    object\n",
       "busiest_days                       object\n",
       "orders_per_time_period             object\n",
       "max_order                           int64\n",
       "loyalty_flag                       object\n",
       "avg_spend_per_customer_id         float64\n",
       "spending_flag                      object\n",
       "median_days_since_prior_order     float64\n",
       "frequency_flag                     object\n",
       "gender                             object\n",
       "state                              object\n",
       "age                                 int64\n",
       "date_joined                        object\n",
       "number_of_dependants                int64\n",
       "fam_status                         object\n",
       "income                              int64\n",
       "region                             object\n",
       "exclusion_flag                     object\n",
       "age_group                          object\n",
       "income_range                       object\n",
       "parental_status                    object\n",
       "weekday                            object\n",
       "part_of_day                        object\n",
       "selling_performance                object\n",
       "price_range                        object\n",
       "department_name                    object\n",
       "dtype: object"
      ]
     },
     "execution_count": 14,
     "metadata": {},
     "output_type": "execute_result"
    }
   ],
   "source": [
    "df_ords_prods_cust_merged_4.dtypes"
   ]
  },
  {
   "cell_type": "code",
   "execution_count": 266,
   "id": "dcdd85ac",
   "metadata": {
    "scrolled": false
   },
   "outputs": [
    {
     "data": {
      "image/png": "[encoded data removed]",
      "text/plain": [
       "<Figure size 432x288 with 1 Axes>"
      ]
     },
     "metadata": {
      "needs_background": "light"
     },
     "output_type": "display_data"
    }
   ],
   "source": [
    "# Create visual to show what departments sell the most\n",
    "bar_top_selling_departments = df_ords_prods_cust_merged_4['department_name'].value_counts().plot.bar(color = sns.color_palette('YlOrBr_r', 21))\n",
    "plt.tight_layout()"
   ]
  },
  {
   "cell_type": "code",
   "execution_count": 267,
   "id": "9174b746",
   "metadata": {},
   "outputs": [],
   "source": [
    "# Export top selling departments\n",
    "bar_top_selling_departments.figure.savefig(os.path.join(path,'04 Analysis','Visualizations','top_selling_departments.png'))"
   ]
  },
  {
   "cell_type": "code",
   "execution_count": 17,
   "id": "a17bd74b",
   "metadata": {},
   "outputs": [
    {
     "data": {
      "image/png": "[encoded data removed]",
      "text/plain": [
       "<Figure size 432x288 with 1 Axes>"
      ]
     },
     "metadata": {
      "needs_background": "light"
     },
     "output_type": "display_data"
    }
   ],
   "source": [
    "# Histogram showing highest frequency of product orders by department id\n",
    "hist = df_ords_prods_cust_merged_4['department_id'].plot.hist(bins = 23, color = sns.color_palette('rocket',2))"
   ]
  },
  {
   "cell_type": "code",
   "execution_count": 316,
   "id": "9e66e40e",
   "metadata": {},
   "outputs": [],
   "source": [
    "# Export highest frequency of product orders by department id\n",
    "hist.figure.savefig(os.path.join(path,'04 Analysis','Visualizations','hist.png'))"
   ]
  },
  {
   "cell_type": "code",
   "execution_count": 18,
   "id": "dccdf81b",
   "metadata": {},
   "outputs": [
    {
     "data": {
      "text/html": [
       "<div>\n",
       "<style scoped>\n",
       "    .dataframe tbody tr th:only-of-type {\n",
       "        vertical-align: middle;\n",
       "    }\n",
       "\n",
       "    .dataframe tbody tr th {\n",
       "        vertical-align: top;\n",
       "    }\n",
       "\n",
       "    .dataframe thead th {\n",
       "        text-align: right;\n",
       "    }\n",
       "</style>\n",
       "<table border=\"1\" class=\"dataframe\">\n",
       "  <thead>\n",
       "    <tr style=\"text-align: right;\">\n",
       "      <th></th>\n",
       "      <th>0</th>\n",
       "    </tr>\n",
       "  </thead>\n",
       "  <tbody>\n",
       "    <tr>\n",
       "      <th>department_id</th>\n",
       "      <td>department</td>\n",
       "    </tr>\n",
       "    <tr>\n",
       "      <th>1</th>\n",
       "      <td>frozen</td>\n",
       "    </tr>\n",
       "    <tr>\n",
       "      <th>2</th>\n",
       "      <td>other</td>\n",
       "    </tr>\n",
       "    <tr>\n",
       "      <th>3</th>\n",
       "      <td>bakery</td>\n",
       "    </tr>\n",
       "    <tr>\n",
       "      <th>4</th>\n",
       "      <td>produce</td>\n",
       "    </tr>\n",
       "    <tr>\n",
       "      <th>5</th>\n",
       "      <td>alcohol</td>\n",
       "    </tr>\n",
       "    <tr>\n",
       "      <th>6</th>\n",
       "      <td>international</td>\n",
       "    </tr>\n",
       "    <tr>\n",
       "      <th>7</th>\n",
       "      <td>beverages</td>\n",
       "    </tr>\n",
       "    <tr>\n",
       "      <th>8</th>\n",
       "      <td>pets</td>\n",
       "    </tr>\n",
       "    <tr>\n",
       "      <th>9</th>\n",
       "      <td>dry goods pasta</td>\n",
       "    </tr>\n",
       "    <tr>\n",
       "      <th>10</th>\n",
       "      <td>bulk</td>\n",
       "    </tr>\n",
       "    <tr>\n",
       "      <th>11</th>\n",
       "      <td>personal care</td>\n",
       "    </tr>\n",
       "    <tr>\n",
       "      <th>12</th>\n",
       "      <td>meat seafood</td>\n",
       "    </tr>\n",
       "    <tr>\n",
       "      <th>13</th>\n",
       "      <td>pantry</td>\n",
       "    </tr>\n",
       "    <tr>\n",
       "      <th>14</th>\n",
       "      <td>breakfast</td>\n",
       "    </tr>\n",
       "    <tr>\n",
       "      <th>15</th>\n",
       "      <td>canned goods</td>\n",
       "    </tr>\n",
       "    <tr>\n",
       "      <th>16</th>\n",
       "      <td>dairy eggs</td>\n",
       "    </tr>\n",
       "    <tr>\n",
       "      <th>17</th>\n",
       "      <td>household</td>\n",
       "    </tr>\n",
       "    <tr>\n",
       "      <th>18</th>\n",
       "      <td>babies</td>\n",
       "    </tr>\n",
       "    <tr>\n",
       "      <th>19</th>\n",
       "      <td>snacks</td>\n",
       "    </tr>\n",
       "    <tr>\n",
       "      <th>20</th>\n",
       "      <td>deli</td>\n",
       "    </tr>\n",
       "    <tr>\n",
       "      <th>21</th>\n",
       "      <td>missing</td>\n",
       "    </tr>\n",
       "  </tbody>\n",
       "</table>\n",
       "</div>"
      ],
      "text/plain": [
       "                             0\n",
       "department_id       department\n",
       "1                       frozen\n",
       "2                        other\n",
       "3                       bakery\n",
       "4                      produce\n",
       "5                      alcohol\n",
       "6                international\n",
       "7                    beverages\n",
       "8                         pets\n",
       "9              dry goods pasta\n",
       "10                        bulk\n",
       "11               personal care\n",
       "12                meat seafood\n",
       "13                      pantry\n",
       "14                   breakfast\n",
       "15                canned goods\n",
       "16                  dairy eggs\n",
       "17                   household\n",
       "18                      babies\n",
       "19                      snacks\n",
       "20                        deli\n",
       "21                     missing"
      ]
     },
     "execution_count": 18,
     "metadata": {},
     "output_type": "execute_result"
    }
   ],
   "source": [
    "# Show department name and department id as reference for above visualization\n",
    "df_dep.T"
   ]
  },
  {
   "cell_type": "code",
   "execution_count": 19,
   "id": "a38e8a32",
   "metadata": {},
   "outputs": [],
   "source": [
    "# Export department orders hist\n",
    "hist.figure.savefig(os.path.join(path,'04 Analysis','Visualizations','department_orders_hist.png'))"
   ]
  },
  {
   "cell_type": "markdown",
   "id": "afb44e57",
   "metadata": {},
   "source": [
    "The top 5 selling departments are produce, dairy eggs, beverages,frozen, and pantry. I will check to see the % of sales these 5 departments make up of the total sales by department. "
   ]
  },
  {
   "cell_type": "code",
   "execution_count": 20,
   "id": "eb1aac2b",
   "metadata": {},
   "outputs": [],
   "source": [
    "# Check to see how much sales the top departments make up out of totals sales\n",
    "dept_sales = df_ords_prods_cust_merged_4.groupby('department_name').agg({'prices': ['sum']})"
   ]
  },
  {
   "cell_type": "code",
   "execution_count": 21,
   "id": "55ba4468",
   "metadata": {},
   "outputs": [],
   "source": [
    "dept_sales.to_clipboard()"
   ]
  },
  {
   "cell_type": "code",
   "execution_count": 22,
   "id": "6fbb2630",
   "metadata": {
    "scrolled": true
   },
   "outputs": [
    {
     "data": {
      "text/html": [
       "<div>\n",
       "<style scoped>\n",
       "    .dataframe tbody tr th:only-of-type {\n",
       "        vertical-align: middle;\n",
       "    }\n",
       "\n",
       "    .dataframe tbody tr th {\n",
       "        vertical-align: top;\n",
       "    }\n",
       "\n",
       "    .dataframe thead tr th {\n",
       "        text-align: left;\n",
       "    }\n",
       "\n",
       "    .dataframe thead tr:last-of-type th {\n",
       "        text-align: right;\n",
       "    }\n",
       "</style>\n",
       "<table border=\"1\" class=\"dataframe\">\n",
       "  <thead>\n",
       "    <tr>\n",
       "      <th></th>\n",
       "      <th>prices</th>\n",
       "    </tr>\n",
       "    <tr>\n",
       "      <th></th>\n",
       "      <th>sum</th>\n",
       "    </tr>\n",
       "    <tr>\n",
       "      <th>department_name</th>\n",
       "      <th></th>\n",
       "    </tr>\n",
       "  </thead>\n",
       "  <tbody>\n",
       "    <tr>\n",
       "      <th>alcohol</th>\n",
       "      <td>1.252146e+06</td>\n",
       "    </tr>\n",
       "    <tr>\n",
       "      <th>babies</th>\n",
       "      <td>3.237161e+06</td>\n",
       "    </tr>\n",
       "    <tr>\n",
       "      <th>bakery</th>\n",
       "      <td>9.255103e+06</td>\n",
       "    </tr>\n",
       "    <tr>\n",
       "      <th>beverages</th>\n",
       "      <td>2.064660e+07</td>\n",
       "    </tr>\n",
       "    <tr>\n",
       "      <th>breakfast</th>\n",
       "      <td>5.731696e+06</td>\n",
       "    </tr>\n",
       "    <tr>\n",
       "      <th>bulk</th>\n",
       "      <td>2.886486e+05</td>\n",
       "    </tr>\n",
       "    <tr>\n",
       "      <th>canned goods</th>\n",
       "      <td>8.053132e+06</td>\n",
       "    </tr>\n",
       "    <tr>\n",
       "      <th>dairy eggs</th>\n",
       "      <td>4.517484e+07</td>\n",
       "    </tr>\n",
       "    <tr>\n",
       "      <th>deli</th>\n",
       "      <td>8.177352e+06</td>\n",
       "    </tr>\n",
       "    <tr>\n",
       "      <th>dry goods pasta</th>\n",
       "      <td>6.369954e+06</td>\n",
       "    </tr>\n",
       "    <tr>\n",
       "      <th>frozen</th>\n",
       "      <td>1.731319e+07</td>\n",
       "    </tr>\n",
       "    <tr>\n",
       "      <th>households</th>\n",
       "      <td>5.454353e+06</td>\n",
       "    </tr>\n",
       "    <tr>\n",
       "      <th>international</th>\n",
       "      <td>2.068473e+06</td>\n",
       "    </tr>\n",
       "    <tr>\n",
       "      <th>meat seafood</th>\n",
       "      <td>1.155165e+07</td>\n",
       "    </tr>\n",
       "    <tr>\n",
       "      <th>missing</th>\n",
       "      <td>5.988452e+05</td>\n",
       "    </tr>\n",
       "    <tr>\n",
       "      <th>other</th>\n",
       "      <td>2.537080e+05</td>\n",
       "    </tr>\n",
       "    <tr>\n",
       "      <th>pantry</th>\n",
       "      <td>1.502319e+07</td>\n",
       "    </tr>\n",
       "    <tr>\n",
       "      <th>personal care</th>\n",
       "      <td>3.580031e+06</td>\n",
       "    </tr>\n",
       "    <tr>\n",
       "      <th>pets</th>\n",
       "      <td>7.710068e+05</td>\n",
       "    </tr>\n",
       "    <tr>\n",
       "      <th>produce</th>\n",
       "      <td>7.566093e+07</td>\n",
       "    </tr>\n",
       "    <tr>\n",
       "      <th>snacks</th>\n",
       "      <td>1.234554e+07</td>\n",
       "    </tr>\n",
       "  </tbody>\n",
       "</table>\n",
       "</div>"
      ],
      "text/plain": [
       "                       prices\n",
       "                          sum\n",
       "department_name              \n",
       "alcohol          1.252146e+06\n",
       "babies           3.237161e+06\n",
       "bakery           9.255103e+06\n",
       "beverages        2.064660e+07\n",
       "breakfast        5.731696e+06\n",
       "bulk             2.886486e+05\n",
       "canned goods     8.053132e+06\n",
       "dairy eggs       4.517484e+07\n",
       "deli             8.177352e+06\n",
       "dry goods pasta  6.369954e+06\n",
       "frozen           1.731319e+07\n",
       "households       5.454353e+06\n",
       "international    2.068473e+06\n",
       "meat seafood     1.155165e+07\n",
       "missing          5.988452e+05\n",
       "other            2.537080e+05\n",
       "pantry           1.502319e+07\n",
       "personal care    3.580031e+06\n",
       "pets             7.710068e+05\n",
       "produce          7.566093e+07\n",
       "snacks           1.234554e+07"
      ]
     },
     "execution_count": 22,
     "metadata": {},
     "output_type": "execute_result"
    }
   ],
   "source": [
    "dept_sales"
   ]
  },
  {
   "cell_type": "markdown",
   "id": "0a0c6b0e",
   "metadata": {},
   "source": [
    "The top 5 selling departments (produce, dairy eggs, beverages,frozen, and pantry) make up 69% of total sales. I will create a subset to analyze these departments vs customer profiles in order to pin point more-relevant marketing strategies. These 5 deparments will be flagged as \"High performing dept.\""
   ]
  },
  {
   "cell_type": "code",
   "execution_count": 23,
   "id": "ea1af6ef",
   "metadata": {},
   "outputs": [],
   "source": [
    "# Write for loop to flag \n",
    "\n",
    "result = []\n",
    "\n",
    "for value in df_ords_prods_cust_merged_4['department_id']:\n",
    "    if value == 4:\n",
    "        result.append('High performing dept')\n",
    "    elif value == 16:\n",
    "        result.append('High performing dept')\n",
    "    elif value == 7:\n",
    "        result.append('High performing dept')\n",
    "    elif value == 1:\n",
    "        result.append('High performing dept')\n",
    "    elif value == 13:\n",
    "        result.append('High performing dept')\n",
    "    else:\n",
    "        result.append('Normal performing dept')"
   ]
  },
  {
   "cell_type": "code",
   "execution_count": 24,
   "id": "6d9bfbb9",
   "metadata": {
    "scrolled": true
   },
   "outputs": [
    {
     "data": {
      "text/plain": [
       "['High performing dept',\n",
       " 'High performing dept',\n",
       " 'High performing dept',\n",
       " 'High performing dept',\n",
       " 'High performing dept',\n",
       " 'High performing dept',\n",
       " 'High performing dept',\n",
       " 'High performing dept',\n",
       " 'High performing dept',\n",
       " 'High performing dept',\n",
       " 'High performing dept',\n",
       " 'High performing dept',\n",
       " 'High performing dept',\n",
       " 'High performing dept',\n",
       " 'High performing dept',\n",
       " 'High performing dept',\n",
       " 'High performing dept',\n",
       " 'High performing dept',\n",
       " 'High performing dept',\n",
       " 'High performing dept',\n",
       " 'High performing dept',\n",
       " 'High performing dept',\n",
       " 'High performing dept',\n",
       " 'High performing dept',\n",
       " 'High performing dept',\n",
       " 'High performing dept',\n",
       " 'High performing dept',\n",
       " 'High performing dept',\n",
       " 'High performing dept',\n",
       " 'High performing dept',\n",
       " 'High performing dept',\n",
       " 'High performing dept',\n",
       " 'High performing dept',\n",
       " 'High performing dept',\n",
       " 'High performing dept',\n",
       " 'High performing dept',\n",
       " 'High performing dept',\n",
       " 'High performing dept',\n",
       " 'Normal performing dept',\n",
       " 'High performing dept',\n",
       " 'High performing dept',\n",
       " 'High performing dept',\n",
       " 'Normal performing dept',\n",
       " 'High performing dept',\n",
       " 'High performing dept',\n",
       " 'High performing dept',\n",
       " 'High performing dept',\n",
       " 'High performing dept',\n",
       " 'Normal performing dept',\n",
       " 'High performing dept',\n",
       " 'High performing dept',\n",
       " 'High performing dept',\n",
       " 'High performing dept',\n",
       " 'Normal performing dept',\n",
       " 'Normal performing dept',\n",
       " 'High performing dept',\n",
       " 'High performing dept',\n",
       " 'High performing dept',\n",
       " 'High performing dept',\n",
       " 'High performing dept',\n",
       " 'High performing dept',\n",
       " 'High performing dept',\n",
       " 'Normal performing dept',\n",
       " 'Normal performing dept',\n",
       " 'High performing dept',\n",
       " 'High performing dept',\n",
       " 'High performing dept',\n",
       " 'High performing dept',\n",
       " 'Normal performing dept',\n",
       " 'Normal performing dept',\n",
       " 'High performing dept',\n",
       " 'High performing dept',\n",
       " 'High performing dept',\n",
       " 'High performing dept',\n",
       " 'High performing dept',\n",
       " 'High performing dept',\n",
       " 'High performing dept',\n",
       " 'High performing dept',\n",
       " 'High performing dept',\n",
       " 'High performing dept',\n",
       " 'High performing dept',\n",
       " 'Normal performing dept',\n",
       " 'Normal performing dept',\n",
       " 'Normal performing dept',\n",
       " 'Normal performing dept',\n",
       " 'Normal performing dept',\n",
       " 'High performing dept',\n",
       " 'High performing dept',\n",
       " 'High performing dept',\n",
       " 'Normal performing dept',\n",
       " 'High performing dept',\n",
       " 'High performing dept',\n",
       " 'High performing dept',\n",
       " 'High performing dept',\n",
       " 'High performing dept',\n",
       " 'High performing dept',\n",
       " 'High performing dept',\n",
       " 'High performing dept',\n",
       " 'High performing dept',\n",
       " 'High performing dept',\n",
       " 'High performing dept',\n",
       " 'High performing dept',\n",
       " 'High performing dept',\n",
       " 'High performing dept',\n",
       " 'High performing dept',\n",
       " 'High performing dept',\n",
       " 'High performing dept',\n",
       " 'High performing dept',\n",
       " 'High performing dept',\n",
       " 'High performing dept',\n",
       " 'High performing dept',\n",
       " 'High performing dept',\n",
       " 'High performing dept',\n",
       " 'High performing dept',\n",
       " 'High performing dept',\n",
       " 'High performing dept',\n",
       " 'High performing dept',\n",
       " 'High performing dept',\n",
       " 'High performing dept',\n",
       " 'High performing dept',\n",
       " 'High performing dept',\n",
       " 'High performing dept',\n",
       " 'High performing dept',\n",
       " 'High performing dept',\n",
       " 'High performing dept',\n",
       " 'High performing dept',\n",
       " 'Normal performing dept',\n",
       " 'Normal performing dept',\n",
       " 'High performing dept',\n",
       " 'High performing dept',\n",
       " 'High performing dept',\n",
       " 'High performing dept',\n",
       " 'High performing dept',\n",
       " 'High performing dept',\n",
       " 'High performing dept',\n",
       " 'High performing dept',\n",
       " 'High performing dept',\n",
       " 'High performing dept',\n",
       " 'High performing dept',\n",
       " 'High performing dept',\n",
       " 'High performing dept',\n",
       " 'High performing dept',\n",
       " 'High performing dept',\n",
       " 'High performing dept',\n",
       " 'High performing dept',\n",
       " 'High performing dept',\n",
       " 'High performing dept',\n",
       " 'High performing dept',\n",
       " 'High performing dept',\n",
       " 'High performing dept',\n",
       " 'High performing dept',\n",
       " 'High performing dept',\n",
       " 'High performing dept',\n",
       " 'High performing dept',\n",
       " 'High performing dept',\n",
       " 'High performing dept',\n",
       " 'High performing dept',\n",
       " 'High performing dept',\n",
       " 'High performing dept',\n",
       " 'High performing dept',\n",
       " 'High performing dept',\n",
       " 'High performing dept',\n",
       " 'High performing dept',\n",
       " 'High performing dept',\n",
       " 'High performing dept',\n",
       " 'High performing dept',\n",
       " 'High performing dept',\n",
       " 'High performing dept',\n",
       " 'Normal performing dept',\n",
       " 'Normal performing dept',\n",
       " 'Normal performing dept',\n",
       " 'High performing dept',\n",
       " 'High performing dept',\n",
       " 'High performing dept',\n",
       " 'High performing dept',\n",
       " 'High performing dept',\n",
       " 'High performing dept',\n",
       " 'High performing dept',\n",
       " 'High performing dept',\n",
       " 'High performing dept',\n",
       " 'High performing dept',\n",
       " 'High performing dept',\n",
       " 'High performing dept',\n",
       " 'High performing dept',\n",
       " 'High performing dept',\n",
       " 'High performing dept',\n",
       " 'High performing dept',\n",
       " 'High performing dept',\n",
       " 'High performing dept',\n",
       " 'Normal performing dept',\n",
       " 'Normal performing dept',\n",
       " 'Normal performing dept',\n",
       " 'Normal performing dept',\n",
       " 'High performing dept',\n",
       " 'High performing dept',\n",
       " 'High performing dept',\n",
       " 'High performing dept',\n",
       " 'High performing dept',\n",
       " 'High performing dept',\n",
       " 'Normal performing dept',\n",
       " 'Normal performing dept',\n",
       " 'Normal performing dept',\n",
       " 'Normal performing dept',\n",
       " 'Normal performing dept',\n",
       " 'Normal performing dept',\n",
       " 'Normal performing dept',\n",
       " 'Normal performing dept',\n",
       " 'Normal performing dept',\n",
       " 'Normal performing dept',\n",
       " 'Normal performing dept',\n",
       " 'Normal performing dept',\n",
       " 'High performing dept',\n",
       " 'High performing dept',\n",
       " 'High performing dept',\n",
       " 'High performing dept',\n",
       " 'High performing dept',\n",
       " 'High performing dept',\n",
       " 'High performing dept',\n",
       " 'High performing dept',\n",
       " 'High performing dept',\n",
       " 'High performing dept',\n",
       " 'High performing dept',\n",
       " 'High performing dept',\n",
       " 'High performing dept',\n",
       " 'High performing dept',\n",
       " 'High performing dept',\n",
       " 'High performing dept',\n",
       " 'High performing dept',\n",
       " 'High performing dept',\n",
       " 'High performing dept',\n",
       " 'High performing dept',\n",
       " 'High performing dept',\n",
       " 'High performing dept',\n",
       " 'High performing dept',\n",
       " 'High performing dept',\n",
       " 'High performing dept',\n",
       " 'High performing dept',\n",
       " 'High performing dept',\n",
       " 'High performing dept',\n",
       " 'High performing dept',\n",
       " 'High performing dept',\n",
       " 'High performing dept',\n",
       " 'High performing dept',\n",
       " 'High performing dept',\n",
       " 'High performing dept',\n",
       " 'High performing dept',\n",
       " 'High performing dept',\n",
       " 'High performing dept',\n",
       " 'High performing dept',\n",
       " 'High performing dept',\n",
       " 'High performing dept',\n",
       " 'High performing dept',\n",
       " 'High performing dept',\n",
       " 'High performing dept',\n",
       " 'High performing dept',\n",
       " 'High performing dept',\n",
       " 'High performing dept',\n",
       " 'High performing dept',\n",
       " 'High performing dept',\n",
       " 'High performing dept',\n",
       " 'High performing dept',\n",
       " 'High performing dept',\n",
       " 'High performing dept',\n",
       " 'High performing dept',\n",
       " 'High performing dept',\n",
       " 'High performing dept',\n",
       " 'High performing dept',\n",
       " 'High performing dept',\n",
       " 'High performing dept',\n",
       " 'High performing dept',\n",
       " 'High performing dept',\n",
       " 'High performing dept',\n",
       " 'High performing dept',\n",
       " 'High performing dept',\n",
       " 'High performing dept',\n",
       " 'High performing dept',\n",
       " 'High performing dept',\n",
       " 'High performing dept',\n",
       " 'High performing dept',\n",
       " 'High performing dept',\n",
       " 'High performing dept',\n",
       " 'High performing dept',\n",
       " 'High performing dept',\n",
       " 'High performing dept',\n",
       " 'Normal performing dept',\n",
       " 'High performing dept',\n",
       " 'Normal performing dept',\n",
       " 'Normal performing dept',\n",
       " 'High performing dept',\n",
       " 'Normal performing dept',\n",
       " 'High performing dept',\n",
       " 'High performing dept',\n",
       " 'High performing dept',\n",
       " 'High performing dept',\n",
       " 'High performing dept',\n",
       " 'High performing dept',\n",
       " 'High performing dept',\n",
       " 'High performing dept',\n",
       " 'High performing dept',\n",
       " 'High performing dept',\n",
       " 'High performing dept',\n",
       " 'High performing dept',\n",
       " 'High performing dept',\n",
       " 'High performing dept',\n",
       " 'Normal performing dept',\n",
       " 'Normal performing dept',\n",
       " 'Normal performing dept',\n",
       " 'Normal performing dept',\n",
       " 'High performing dept',\n",
       " 'High performing dept',\n",
       " 'High performing dept',\n",
       " 'High performing dept',\n",
       " 'High performing dept',\n",
       " 'High performing dept',\n",
       " 'High performing dept',\n",
       " 'High performing dept',\n",
       " 'High performing dept',\n",
       " 'Normal performing dept',\n",
       " 'Normal performing dept',\n",
       " 'Normal performing dept',\n",
       " 'High performing dept',\n",
       " 'High performing dept',\n",
       " 'High performing dept',\n",
       " 'High performing dept',\n",
       " 'High performing dept',\n",
       " 'High performing dept',\n",
       " 'Normal performing dept',\n",
       " 'High performing dept',\n",
       " 'High performing dept',\n",
       " 'Normal performing dept',\n",
       " 'High performing dept',\n",
       " 'High performing dept',\n",
       " 'High performing dept',\n",
       " 'High performing dept',\n",
       " 'High performing dept',\n",
       " 'High performing dept',\n",
       " 'High performing dept',\n",
       " 'High performing dept',\n",
       " 'High performing dept',\n",
       " 'High performing dept',\n",
       " 'High performing dept',\n",
       " 'Normal performing dept',\n",
       " 'Normal performing dept',\n",
       " 'Normal performing dept',\n",
       " 'Normal performing dept',\n",
       " 'High performing dept',\n",
       " 'High performing dept',\n",
       " 'High performing dept',\n",
       " 'High performing dept',\n",
       " 'High performing dept',\n",
       " 'Normal performing dept',\n",
       " 'Normal performing dept',\n",
       " 'High performing dept',\n",
       " 'High performing dept',\n",
       " 'High performing dept',\n",
       " 'High performing dept',\n",
       " 'High performing dept',\n",
       " 'High performing dept',\n",
       " 'High performing dept',\n",
       " 'High performing dept',\n",
       " 'High performing dept',\n",
       " 'High performing dept',\n",
       " 'High performing dept',\n",
       " 'High performing dept',\n",
       " 'High performing dept',\n",
       " 'High performing dept',\n",
       " 'High performing dept',\n",
       " 'High performing dept',\n",
       " 'High performing dept',\n",
       " 'High performing dept',\n",
       " 'High performing dept',\n",
       " 'High performing dept',\n",
       " 'High performing dept',\n",
       " 'High performing dept',\n",
       " 'High performing dept',\n",
       " 'High performing dept',\n",
       " 'Normal performing dept',\n",
       " 'High performing dept',\n",
       " 'Normal performing dept',\n",
       " 'Normal performing dept',\n",
       " 'Normal performing dept',\n",
       " 'Normal performing dept',\n",
       " 'Normal performing dept',\n",
       " 'Normal performing dept',\n",
       " 'Normal performing dept',\n",
       " 'Normal performing dept',\n",
       " 'High performing dept',\n",
       " 'High performing dept',\n",
       " 'High performing dept',\n",
       " 'High performing dept',\n",
       " 'High performing dept',\n",
       " 'High performing dept',\n",
       " 'Normal performing dept',\n",
       " 'Normal performing dept',\n",
       " 'Normal performing dept',\n",
       " 'High performing dept',\n",
       " 'High performing dept',\n",
       " 'Normal performing dept',\n",
       " 'Normal performing dept',\n",
       " 'High performing dept',\n",
       " 'High performing dept',\n",
       " 'High performing dept',\n",
       " 'High performing dept',\n",
       " 'High performing dept',\n",
       " 'High performing dept',\n",
       " 'High performing dept',\n",
       " 'High performing dept',\n",
       " 'High performing dept',\n",
       " 'High performing dept',\n",
       " 'High performing dept',\n",
       " 'High performing dept',\n",
       " 'High performing dept',\n",
       " 'High performing dept',\n",
       " 'High performing dept',\n",
       " 'High performing dept',\n",
       " 'High performing dept',\n",
       " 'Normal performing dept',\n",
       " 'Normal performing dept',\n",
       " 'Normal performing dept',\n",
       " 'Normal performing dept',\n",
       " 'High performing dept',\n",
       " 'High performing dept',\n",
       " 'High performing dept',\n",
       " 'High performing dept',\n",
       " 'Normal performing dept',\n",
       " 'High performing dept',\n",
       " 'Normal performing dept',\n",
       " 'Normal performing dept',\n",
       " 'High performing dept',\n",
       " 'High performing dept',\n",
       " 'Normal performing dept',\n",
       " 'High performing dept',\n",
       " 'Normal performing dept',\n",
       " 'Normal performing dept',\n",
       " 'High performing dept',\n",
       " 'Normal performing dept',\n",
       " 'Normal performing dept',\n",
       " 'High performing dept',\n",
       " 'High performing dept',\n",
       " 'High performing dept',\n",
       " 'Normal performing dept',\n",
       " 'Normal performing dept',\n",
       " 'Normal performing dept',\n",
       " 'Normal performing dept',\n",
       " 'High performing dept',\n",
       " 'High performing dept',\n",
       " 'High performing dept',\n",
       " 'High performing dept',\n",
       " 'High performing dept',\n",
       " 'High performing dept',\n",
       " 'Normal performing dept',\n",
       " 'Normal performing dept',\n",
       " 'High performing dept',\n",
       " 'High performing dept',\n",
       " 'High performing dept',\n",
       " 'High performing dept',\n",
       " 'Normal performing dept',\n",
       " 'Normal performing dept',\n",
       " 'High performing dept',\n",
       " 'High performing dept',\n",
       " 'High performing dept',\n",
       " 'High performing dept',\n",
       " 'High performing dept',\n",
       " 'Normal performing dept',\n",
       " 'Normal performing dept',\n",
       " 'High performing dept',\n",
       " 'Normal performing dept',\n",
       " 'High performing dept',\n",
       " 'Normal performing dept',\n",
       " 'Normal performing dept',\n",
       " 'High performing dept',\n",
       " 'Normal performing dept',\n",
       " 'Normal performing dept',\n",
       " 'High performing dept',\n",
       " 'Normal performing dept',\n",
       " 'Normal performing dept',\n",
       " 'Normal performing dept',\n",
       " 'Normal performing dept',\n",
       " 'Normal performing dept',\n",
       " 'Normal performing dept',\n",
       " 'High performing dept',\n",
       " 'High performing dept',\n",
       " 'Normal performing dept',\n",
       " 'Normal performing dept',\n",
       " 'High performing dept',\n",
       " 'High performing dept',\n",
       " 'High performing dept',\n",
       " 'High performing dept',\n",
       " 'High performing dept',\n",
       " 'High performing dept',\n",
       " 'High performing dept',\n",
       " 'High performing dept',\n",
       " 'High performing dept',\n",
       " 'High performing dept',\n",
       " 'High performing dept',\n",
       " 'High performing dept',\n",
       " 'High performing dept',\n",
       " 'Normal performing dept',\n",
       " 'High performing dept',\n",
       " 'High performing dept',\n",
       " 'High performing dept',\n",
       " 'High performing dept',\n",
       " 'High performing dept',\n",
       " 'High performing dept',\n",
       " 'High performing dept',\n",
       " 'High performing dept',\n",
       " 'High performing dept',\n",
       " 'High performing dept',\n",
       " 'High performing dept',\n",
       " 'High performing dept',\n",
       " 'High performing dept',\n",
       " 'High performing dept',\n",
       " 'High performing dept',\n",
       " 'High performing dept',\n",
       " 'Normal performing dept',\n",
       " 'High performing dept',\n",
       " 'High performing dept',\n",
       " 'High performing dept',\n",
       " 'High performing dept',\n",
       " 'High performing dept',\n",
       " 'High performing dept',\n",
       " 'High performing dept',\n",
       " 'High performing dept',\n",
       " 'High performing dept',\n",
       " 'High performing dept',\n",
       " 'High performing dept',\n",
       " 'High performing dept',\n",
       " 'High performing dept',\n",
       " 'High performing dept',\n",
       " 'High performing dept',\n",
       " 'High performing dept',\n",
       " 'High performing dept',\n",
       " 'High performing dept',\n",
       " 'High performing dept',\n",
       " 'High performing dept',\n",
       " 'High performing dept',\n",
       " 'High performing dept',\n",
       " 'High performing dept',\n",
       " 'Normal performing dept',\n",
       " 'Normal performing dept',\n",
       " 'High performing dept',\n",
       " 'Normal performing dept',\n",
       " 'Normal performing dept',\n",
       " 'High performing dept',\n",
       " 'Normal performing dept',\n",
       " 'High performing dept',\n",
       " 'High performing dept',\n",
       " 'High performing dept',\n",
       " 'High performing dept',\n",
       " 'High performing dept',\n",
       " 'High performing dept',\n",
       " 'High performing dept',\n",
       " 'High performing dept',\n",
       " 'High performing dept',\n",
       " 'Normal performing dept',\n",
       " 'High performing dept',\n",
       " 'Normal performing dept',\n",
       " 'Normal performing dept',\n",
       " 'Normal performing dept',\n",
       " 'High performing dept',\n",
       " 'High performing dept',\n",
       " 'High performing dept',\n",
       " 'High performing dept',\n",
       " 'High performing dept',\n",
       " 'High performing dept',\n",
       " 'High performing dept',\n",
       " 'High performing dept',\n",
       " 'High performing dept',\n",
       " 'High performing dept',\n",
       " 'High performing dept',\n",
       " 'High performing dept',\n",
       " 'High performing dept',\n",
       " 'High performing dept',\n",
       " 'High performing dept',\n",
       " 'High performing dept',\n",
       " 'High performing dept',\n",
       " 'High performing dept',\n",
       " 'High performing dept',\n",
       " 'High performing dept',\n",
       " 'High performing dept',\n",
       " 'High performing dept',\n",
       " 'High performing dept',\n",
       " 'High performing dept',\n",
       " 'High performing dept',\n",
       " 'High performing dept',\n",
       " 'High performing dept',\n",
       " 'High performing dept',\n",
       " 'High performing dept',\n",
       " 'High performing dept',\n",
       " 'High performing dept',\n",
       " 'High performing dept',\n",
       " 'High performing dept',\n",
       " 'High performing dept',\n",
       " 'High performing dept',\n",
       " 'High performing dept',\n",
       " 'High performing dept',\n",
       " 'High performing dept',\n",
       " 'High performing dept',\n",
       " 'High performing dept',\n",
       " 'High performing dept',\n",
       " 'High performing dept',\n",
       " 'High performing dept',\n",
       " 'High performing dept',\n",
       " 'High performing dept',\n",
       " 'High performing dept',\n",
       " 'High performing dept',\n",
       " 'High performing dept',\n",
       " 'High performing dept',\n",
       " 'High performing dept',\n",
       " 'High performing dept',\n",
       " 'High performing dept',\n",
       " 'High performing dept',\n",
       " 'Normal performing dept',\n",
       " 'High performing dept',\n",
       " 'High performing dept',\n",
       " 'High performing dept',\n",
       " 'High performing dept',\n",
       " 'High performing dept',\n",
       " 'High performing dept',\n",
       " 'High performing dept',\n",
       " 'High performing dept',\n",
       " 'High performing dept',\n",
       " 'High performing dept',\n",
       " 'High performing dept',\n",
       " 'High performing dept',\n",
       " 'High performing dept',\n",
       " 'High performing dept',\n",
       " 'High performing dept',\n",
       " 'High performing dept',\n",
       " 'High performing dept',\n",
       " 'High performing dept',\n",
       " 'High performing dept',\n",
       " 'Normal performing dept',\n",
       " 'Normal performing dept',\n",
       " 'Normal performing dept',\n",
       " 'Normal performing dept',\n",
       " 'Normal performing dept',\n",
       " 'Normal performing dept',\n",
       " 'Normal performing dept',\n",
       " 'Normal performing dept',\n",
       " 'Normal performing dept',\n",
       " 'Normal performing dept',\n",
       " 'Normal performing dept',\n",
       " 'Normal performing dept',\n",
       " 'Normal performing dept',\n",
       " 'Normal performing dept',\n",
       " 'High performing dept',\n",
       " 'High performing dept',\n",
       " 'High performing dept',\n",
       " 'Normal performing dept',\n",
       " 'Normal performing dept',\n",
       " 'Normal performing dept',\n",
       " 'Normal performing dept',\n",
       " 'Normal performing dept',\n",
       " 'Normal performing dept',\n",
       " 'Normal performing dept',\n",
       " 'Normal performing dept',\n",
       " 'High performing dept',\n",
       " 'High performing dept',\n",
       " 'High performing dept',\n",
       " 'Normal performing dept',\n",
       " 'Normal performing dept',\n",
       " 'Normal performing dept',\n",
       " 'Normal performing dept',\n",
       " 'High performing dept',\n",
       " 'High performing dept',\n",
       " 'High performing dept',\n",
       " 'Normal performing dept',\n",
       " 'Normal performing dept',\n",
       " 'High performing dept',\n",
       " 'High performing dept',\n",
       " 'High performing dept',\n",
       " 'High performing dept',\n",
       " 'High performing dept',\n",
       " 'High performing dept',\n",
       " 'High performing dept',\n",
       " 'High performing dept',\n",
       " 'High performing dept',\n",
       " 'High performing dept',\n",
       " 'High performing dept',\n",
       " 'High performing dept',\n",
       " 'High performing dept',\n",
       " 'High performing dept',\n",
       " 'High performing dept',\n",
       " 'High performing dept',\n",
       " 'High performing dept',\n",
       " 'High performing dept',\n",
       " 'High performing dept',\n",
       " 'High performing dept',\n",
       " 'High performing dept',\n",
       " 'High performing dept',\n",
       " 'High performing dept',\n",
       " 'Normal performing dept',\n",
       " 'Normal performing dept',\n",
       " 'Normal performing dept',\n",
       " 'Normal performing dept',\n",
       " 'Normal performing dept',\n",
       " 'Normal performing dept',\n",
       " 'Normal performing dept',\n",
       " 'Normal performing dept',\n",
       " 'Normal performing dept',\n",
       " 'Normal performing dept',\n",
       " 'Normal performing dept',\n",
       " 'Normal performing dept',\n",
       " 'Normal performing dept',\n",
       " 'Normal performing dept',\n",
       " 'High performing dept',\n",
       " 'High performing dept',\n",
       " 'High performing dept',\n",
       " 'High performing dept',\n",
       " 'High performing dept',\n",
       " 'High performing dept',\n",
       " 'High performing dept',\n",
       " 'High performing dept',\n",
       " 'High performing dept',\n",
       " 'High performing dept',\n",
       " 'High performing dept',\n",
       " 'High performing dept',\n",
       " 'High performing dept',\n",
       " 'High performing dept',\n",
       " 'High performing dept',\n",
       " 'High performing dept',\n",
       " 'High performing dept',\n",
       " 'High performing dept',\n",
       " 'High performing dept',\n",
       " 'High performing dept',\n",
       " 'High performing dept',\n",
       " 'High performing dept',\n",
       " 'High performing dept',\n",
       " 'High performing dept',\n",
       " 'High performing dept',\n",
       " 'High performing dept',\n",
       " 'High performing dept',\n",
       " 'High performing dept',\n",
       " 'High performing dept',\n",
       " 'High performing dept',\n",
       " 'High performing dept',\n",
       " 'High performing dept',\n",
       " 'High performing dept',\n",
       " 'High performing dept',\n",
       " 'High performing dept',\n",
       " 'High performing dept',\n",
       " 'High performing dept',\n",
       " 'High performing dept',\n",
       " 'High performing dept',\n",
       " 'High performing dept',\n",
       " 'High performing dept',\n",
       " 'High performing dept',\n",
       " 'High performing dept',\n",
       " 'High performing dept',\n",
       " 'High performing dept',\n",
       " 'High performing dept',\n",
       " 'High performing dept',\n",
       " 'High performing dept',\n",
       " 'High performing dept',\n",
       " 'High performing dept',\n",
       " 'High performing dept',\n",
       " 'High performing dept',\n",
       " 'Normal performing dept',\n",
       " 'Normal performing dept',\n",
       " 'Normal performing dept',\n",
       " 'High performing dept',\n",
       " 'High performing dept',\n",
       " 'High performing dept',\n",
       " 'High performing dept',\n",
       " 'High performing dept',\n",
       " 'High performing dept',\n",
       " 'High performing dept',\n",
       " 'High performing dept',\n",
       " 'High performing dept',\n",
       " 'High performing dept',\n",
       " 'High performing dept',\n",
       " 'High performing dept',\n",
       " 'High performing dept',\n",
       " 'Normal performing dept',\n",
       " 'High performing dept',\n",
       " 'High performing dept',\n",
       " 'Normal performing dept',\n",
       " 'Normal performing dept',\n",
       " 'Normal performing dept',\n",
       " 'Normal performing dept',\n",
       " 'Normal performing dept',\n",
       " 'Normal performing dept',\n",
       " 'High performing dept',\n",
       " 'High performing dept',\n",
       " 'High performing dept',\n",
       " 'High performing dept',\n",
       " 'High performing dept',\n",
       " 'High performing dept',\n",
       " 'High performing dept',\n",
       " 'High performing dept',\n",
       " 'High performing dept',\n",
       " 'High performing dept',\n",
       " 'High performing dept',\n",
       " 'High performing dept',\n",
       " 'High performing dept',\n",
       " 'High performing dept',\n",
       " 'High performing dept',\n",
       " 'High performing dept',\n",
       " 'High performing dept',\n",
       " 'High performing dept',\n",
       " 'High performing dept',\n",
       " 'High performing dept',\n",
       " 'High performing dept',\n",
       " 'High performing dept',\n",
       " 'High performing dept',\n",
       " 'High performing dept',\n",
       " 'High performing dept',\n",
       " 'High performing dept',\n",
       " 'High performing dept',\n",
       " 'High performing dept',\n",
       " 'High performing dept',\n",
       " 'High performing dept',\n",
       " 'High performing dept',\n",
       " 'High performing dept',\n",
       " 'High performing dept',\n",
       " 'High performing dept',\n",
       " 'High performing dept',\n",
       " 'High performing dept',\n",
       " 'High performing dept',\n",
       " 'High performing dept',\n",
       " 'High performing dept',\n",
       " 'High performing dept',\n",
       " 'High performing dept',\n",
       " 'High performing dept',\n",
       " 'High performing dept',\n",
       " 'High performing dept',\n",
       " 'High performing dept',\n",
       " 'High performing dept',\n",
       " 'High performing dept',\n",
       " 'High performing dept',\n",
       " 'High performing dept',\n",
       " 'High performing dept',\n",
       " 'High performing dept',\n",
       " 'High performing dept',\n",
       " 'High performing dept',\n",
       " 'High performing dept',\n",
       " 'High performing dept',\n",
       " 'High performing dept',\n",
       " 'High performing dept',\n",
       " 'High performing dept',\n",
       " 'High performing dept',\n",
       " 'High performing dept',\n",
       " 'High performing dept',\n",
       " 'High performing dept',\n",
       " 'High performing dept',\n",
       " 'High performing dept',\n",
       " 'High performing dept',\n",
       " 'High performing dept',\n",
       " 'High performing dept',\n",
       " 'High performing dept',\n",
       " 'High performing dept',\n",
       " 'High performing dept',\n",
       " 'High performing dept',\n",
       " 'High performing dept',\n",
       " 'High performing dept',\n",
       " 'High performing dept',\n",
       " 'High performing dept',\n",
       " 'High performing dept',\n",
       " 'High performing dept',\n",
       " 'High performing dept',\n",
       " 'High performing dept',\n",
       " 'High performing dept',\n",
       " 'High performing dept',\n",
       " 'High performing dept',\n",
       " 'High performing dept',\n",
       " 'High performing dept',\n",
       " 'High performing dept',\n",
       " 'High performing dept',\n",
       " 'High performing dept',\n",
       " 'High performing dept',\n",
       " 'High performing dept',\n",
       " 'High performing dept',\n",
       " 'High performing dept',\n",
       " 'High performing dept',\n",
       " 'High performing dept',\n",
       " 'High performing dept',\n",
       " 'High performing dept',\n",
       " 'High performing dept',\n",
       " 'High performing dept',\n",
       " 'High performing dept',\n",
       " 'High performing dept',\n",
       " 'High performing dept',\n",
       " 'High performing dept',\n",
       " 'High performing dept',\n",
       " 'High performing dept',\n",
       " 'High performing dept',\n",
       " 'High performing dept',\n",
       " 'High performing dept',\n",
       " 'High performing dept',\n",
       " 'High performing dept',\n",
       " 'High performing dept',\n",
       " 'High performing dept',\n",
       " 'High performing dept',\n",
       " 'High performing dept',\n",
       " 'High performing dept',\n",
       " 'High performing dept',\n",
       " 'High performing dept',\n",
       " 'High performing dept',\n",
       " 'High performing dept',\n",
       " 'High performing dept',\n",
       " 'High performing dept',\n",
       " 'High performing dept',\n",
       " 'High performing dept',\n",
       " 'High performing dept',\n",
       " 'High performing dept',\n",
       " 'High performing dept',\n",
       " 'High performing dept',\n",
       " 'High performing dept',\n",
       " 'High performing dept',\n",
       " 'High performing dept',\n",
       " 'High performing dept',\n",
       " 'High performing dept',\n",
       " 'High performing dept',\n",
       " 'High performing dept',\n",
       " 'High performing dept',\n",
       " 'High performing dept',\n",
       " 'High performing dept',\n",
       " 'High performing dept',\n",
       " 'High performing dept',\n",
       " 'High performing dept',\n",
       " 'High performing dept',\n",
       " 'High performing dept',\n",
       " 'High performing dept',\n",
       " 'High performing dept',\n",
       " 'High performing dept',\n",
       " 'High performing dept',\n",
       " 'High performing dept',\n",
       " 'High performing dept',\n",
       " 'High performing dept',\n",
       " 'High performing dept',\n",
       " 'High performing dept',\n",
       " 'High performing dept',\n",
       " 'High performing dept',\n",
       " 'High performing dept',\n",
       " 'High performing dept',\n",
       " 'High performing dept',\n",
       " 'High performing dept',\n",
       " 'High performing dept',\n",
       " 'High performing dept',\n",
       " 'High performing dept',\n",
       " 'High performing dept',\n",
       " 'High performing dept',\n",
       " 'High performing dept',\n",
       " 'High performing dept',\n",
       " 'High performing dept',\n",
       " 'High performing dept',\n",
       " 'High performing dept',\n",
       " 'High performing dept',\n",
       " 'High performing dept',\n",
       " 'High performing dept',\n",
       " 'High performing dept',\n",
       " 'High performing dept',\n",
       " 'High performing dept',\n",
       " 'High performing dept',\n",
       " 'High performing dept',\n",
       " 'High performing dept',\n",
       " 'High performing dept',\n",
       " 'High performing dept',\n",
       " 'High performing dept',\n",
       " 'High performing dept',\n",
       " 'High performing dept',\n",
       " 'High performing dept',\n",
       " 'High performing dept',\n",
       " 'High performing dept',\n",
       " 'High performing dept',\n",
       " 'High performing dept',\n",
       " 'High performing dept',\n",
       " 'High performing dept',\n",
       " 'High performing dept',\n",
       " 'High performing dept',\n",
       " 'High performing dept',\n",
       " 'High performing dept',\n",
       " 'High performing dept',\n",
       " 'High performing dept',\n",
       " 'High performing dept',\n",
       " 'High performing dept',\n",
       " 'High performing dept',\n",
       " 'High performing dept',\n",
       " 'High performing dept',\n",
       " 'High performing dept',\n",
       " 'High performing dept',\n",
       " 'High performing dept',\n",
       " 'High performing dept',\n",
       " 'High performing dept',\n",
       " 'High performing dept',\n",
       " 'High performing dept',\n",
       " 'High performing dept',\n",
       " 'High performing dept',\n",
       " 'High performing dept',\n",
       " 'High performing dept',\n",
       " 'High performing dept',\n",
       " 'High performing dept',\n",
       " 'High performing dept',\n",
       " 'High performing dept',\n",
       " 'High performing dept',\n",
       " 'High performing dept',\n",
       " 'High performing dept',\n",
       " 'High performing dept',\n",
       " 'High performing dept',\n",
       " ...]"
      ]
     },
     "execution_count": 24,
     "metadata": {},
     "output_type": "execute_result"
    }
   ],
   "source": [
    "result"
   ]
  },
  {
   "cell_type": "code",
   "execution_count": 25,
   "id": "415592ef",
   "metadata": {
    "scrolled": true
   },
   "outputs": [
    {
     "name": "stderr",
     "output_type": "stream",
     "text": [
      "<ipython-input-25-80b501bffc3d>:2: SettingWithCopyWarning: \n",
      "A value is trying to be set on a copy of a slice from a DataFrame.\n",
      "Try using .loc[row_indexer,col_indexer] = value instead\n",
      "\n",
      "See the caveats in the documentation: https://pandas.pydata.org/pandas-docs/stable/user_guide/indexing.html#returning-a-view-versus-a-copy\n",
      "  df_ords_prods_cust_merged_4['department_perf'] = result\n"
     ]
    }
   ],
   "source": [
    "# Create new column \n",
    "df_ords_prods_cust_merged_4['department_perf'] = result"
   ]
  },
  {
   "cell_type": "code",
   "execution_count": 26,
   "id": "0d819bb6",
   "metadata": {},
   "outputs": [
    {
     "data": {
      "text/plain": [
       "High performing dept      21688348\n",
       "Normal performing dept    10740737\n",
       "Name: department_perf, dtype: int64"
      ]
     },
     "execution_count": 26,
     "metadata": {},
     "output_type": "execute_result"
    }
   ],
   "source": [
    "# Check new column \n",
    "df_ords_prods_cust_merged_4['department_perf'].value_counts()"
   ]
  },
  {
   "cell_type": "code",
   "execution_count": 27,
   "id": "4daeb280",
   "metadata": {},
   "outputs": [],
   "source": [
    "# Create subset with only high performing departments\n",
    "df_ords_prods_cust_merged_5 = df_ords_prods_cust_merged_4[df_ords_prods_cust_merged_4['department_perf']=='High performing dept']"
   ]
  },
  {
   "cell_type": "code",
   "execution_count": 28,
   "id": "6ca4e90b",
   "metadata": {},
   "outputs": [
    {
     "data": {
      "text/plain": [
       "High performing dept    21688348\n",
       "Name: department_perf, dtype: int64"
      ]
     },
     "execution_count": 28,
     "metadata": {},
     "output_type": "execute_result"
    }
   ],
   "source": [
    "# Check results to make sure no normal performers are present\n",
    "df_ords_prods_cust_merged_5['department_perf'].value_counts()"
   ]
  },
  {
   "cell_type": "code",
   "execution_count": 29,
   "id": "666aba29",
   "metadata": {},
   "outputs": [
    {
     "data": {
      "text/plain": [
       "Text(108.68, 0.5, '')"
      ]
     },
     "execution_count": 29,
     "metadata": {},
     "output_type": "execute_result"
    },
    {
     "data": {
      "image/png": "[encoded data removed]",
      "text/plain": [
       "<Figure size 432x288 with 1 Axes>"
      ]
     },
     "metadata": {},
     "output_type": "display_data"
    }
   ],
   "source": [
    "# Check to see % of sales each department eqals out of the top 5 departments.\n",
    "pie_department_name = df_ords_prods_cust_merged_5['department_name'].value_counts().sort_index().plot.pie(autopct='%1.1f%%', colors = sns.color_palette('coolwarm', 4))\n",
    "plt.tight_layout()\n",
    "plt.ylabel('')"
   ]
  },
  {
   "cell_type": "markdown",
   "id": "478023ac",
   "metadata": {},
   "source": [
    "I will use these top 5 departments in order to pinpoint customers to target for product marketing campaings. "
   ]
  },
  {
   "cell_type": "code",
   "execution_count": 271,
   "id": "cb3d95fe",
   "metadata": {},
   "outputs": [],
   "source": [
    "# Export  % of sales each department eqals out of the top 5 departments.\n",
    "pie_department_name.figure.savefig(os.path.join(path,'04 Analysis','Visualizations','pie_department_name.png'))"
   ]
  },
  {
   "cell_type": "markdown",
   "id": "f56f57b3",
   "metadata": {},
   "source": [
    "# Age"
   ]
  },
  {
   "cell_type": "markdown",
   "id": "d8703ba1",
   "metadata": {},
   "source": [
    "# Key questions #5.E: What different classifications does the demographic information suggest? Age & certain types of goods?"
   ]
  },
  {
   "cell_type": "code",
   "execution_count": 30,
   "id": "7b901b50",
   "metadata": {},
   "outputs": [],
   "source": [
    "# Crosstab for department name and age group for visualization (cdertain types of goods)\n",
    "dept_name_age = pd.crosstab(df_ords_prods_cust_merged_5['department_name'], df_ords_prods_cust_merged_5['age_group'], dropna = False)"
   ]
  },
  {
   "cell_type": "code",
   "execution_count": 295,
   "id": "5e6e605e",
   "metadata": {},
   "outputs": [
    {
     "data": {
      "image/png": "[encoded data removed]",
      "text/plain": [
       "<Figure size 432x288 with 1 Axes>"
      ]
     },
     "metadata": {
      "needs_background": "light"
     },
     "output_type": "display_data"
    }
   ],
   "source": [
    "bar_dept_name_age = dept_name_age.plot.bar(stacked = True, color = sns.color_palette('Blues_r', 8))\n",
    "plt.legend(title = 'age_group', loc='upper left')\n",
    "plt.tight_layout()"
   ]
  },
  {
   "cell_type": "markdown",
   "id": "8396a8de",
   "metadata": {},
   "source": [
    "There is not a lot of difference from amount of the top selling departments purchase by each age group. 18-10 and 80+ can be excluded from marketing strategies."
   ]
  },
  {
   "cell_type": "code",
   "execution_count": 296,
   "id": "b4970deb",
   "metadata": {},
   "outputs": [],
   "source": [
    "# Export department orders and age\n",
    "bar_dept_name_age.figure.savefig(os.path.join(path,'04 Analysis','Visualizations','dept_name_age.png'))"
   ]
  },
  {
   "cell_type": "code",
   "execution_count": 33,
   "id": "49938619",
   "metadata": {},
   "outputs": [
    {
     "data": {
      "image/png": "[encoded data removed]",
      "text/plain": [
       "<Figure size 432x288 with 1 Axes>"
      ]
     },
     "metadata": {
      "needs_background": "light"
     },
     "output_type": "display_data"
    }
   ],
   "source": [
    "# total orders per age group\n",
    "bar_age_group_orders = df_ords_prods_cust_merged_5['age_group'].value_counts().sort_index().plot.bar(color = sns.color_palette('Blues_r', 1))"
   ]
  },
  {
   "cell_type": "markdown",
   "id": "01ac752b",
   "metadata": {},
   "source": [
    "Total orders by age groups indicate the same information.18-10 and 80+ can be excluded from marketing strategies."
   ]
  },
  {
   "cell_type": "code",
   "execution_count": 34,
   "id": "a156094d",
   "metadata": {},
   "outputs": [],
   "source": [
    "# Export total orders per age group\n",
    "bar_age_group_orders.figure.savefig(os.path.join(path,'04 Analysis','Visualizations','age_group_orders.png'))"
   ]
  },
  {
   "cell_type": "code",
   "execution_count": 317,
   "id": "e1311798",
   "metadata": {},
   "outputs": [],
   "source": [
    "# Crosstab for age group and weekday\n",
    "age_weekday = pd.crosstab(df_ords_prods_cust_merged_5['weekday'], df_ords_prods_cust_merged_5['age_group'], dropna = False)"
   ]
  },
  {
   "cell_type": "code",
   "execution_count": 318,
   "id": "3fd4ca8c",
   "metadata": {},
   "outputs": [
    {
     "data": {
      "image/png": "[encoded data removed]",
      "text/plain": [
       "<Figure size 432x288 with 1 Axes>"
      ]
     },
     "metadata": {
      "needs_background": "light"
     },
     "output_type": "display_data"
    }
   ],
   "source": [
    "bar_age_weekday = age_weekday.plot.bar(stacked = True, color = sns.color_palette('Blues_r', 8))\n",
    "plt.legend(title = 'age_group', loc='upper left')\n",
    "plt.tight_layout()"
   ]
  },
  {
   "cell_type": "code",
   "execution_count": 319,
   "id": "55471989",
   "metadata": {},
   "outputs": [],
   "source": [
    "# Export age group and weekday\n",
    "bar_age_weekday.figure.savefig(os.path.join(path,'04 Analysis','Visualizations','age_weekday.png'))"
   ]
  },
  {
   "cell_type": "markdown",
   "id": "786674f7",
   "metadata": {},
   "source": [
    "# Key questions #5.E: The marketing and sales teams are particularly interested in the different types of customers in their system and how their ordering behaviors differ. For example: Is there a connection between age and family status in terms of ordering habits?"
   ]
  },
  {
   "cell_type": "code",
   "execution_count": 86,
   "id": "e38376c4",
   "metadata": {},
   "outputs": [],
   "source": [
    "# Crosstab for age and department name\n",
    "age_department = pd.crosstab(df_ords_prods_cust_merged_4['department_name'], df_ords_prods_cust_merged_4['age_group'], dropna = False)"
   ]
  },
  {
   "cell_type": "code",
   "execution_count": 284,
   "id": "9f64724e",
   "metadata": {},
   "outputs": [
    {
     "data": {
      "image/png": "[encoded data removed]",
      "text/plain": [
       "<Figure size 432x288 with 1 Axes>"
      ]
     },
     "metadata": {
      "needs_background": "light"
     },
     "output_type": "display_data"
    }
   ],
   "source": [
    "# Create visual for age and department name\n",
    "bar_age_department = age_department.plot(kind = 'bar', stacked = True, color = sns.color_palette('YlGnBu', 8))\n",
    "plt.legend(loc='upper left')\n",
    "plt.tight_layout()"
   ]
  },
  {
   "cell_type": "code",
   "execution_count": 285,
   "id": "f3e571e4",
   "metadata": {},
   "outputs": [],
   "source": [
    "# Export age and department name\n",
    "bar_age_department.figure.savefig(os.path.join(path,'04 Analysis','Visualizations','bar_age_department.png'))"
   ]
  },
  {
   "cell_type": "code",
   "execution_count": 286,
   "id": "28ba0667",
   "metadata": {},
   "outputs": [
    {
     "data": {
      "image/png": "[encoded data removed]",
      "text/plain": [
       "<Figure size 432x288 with 1 Axes>"
      ]
     },
     "metadata": {
      "needs_background": "light"
     },
     "output_type": "display_data"
    }
   ],
   "source": [
    "# 100% stacked bar chart \n",
    "bar_age_department_100 = age_department.apply(lambda r: r/r.sum()*100, axis=1).plot(kind = 'bar', stacked = True, color = sns.color_palette('YlGnBu',8))\n",
    "plt.legend(loc='center left', bbox_to_anchor=(1, 0.5))\n",
    "plt.tight_layout()"
   ]
  },
  {
   "cell_type": "code",
   "execution_count": 287,
   "id": "f1819201",
   "metadata": {},
   "outputs": [],
   "source": [
    "# Export age and department name stacked\n",
    "bar_age_department_100.figure.savefig(os.path.join(path,'04 Analysis','Visualizations','bar_age_department_100.png'))"
   ]
  },
  {
   "cell_type": "code",
   "execution_count": 98,
   "id": "9d1ca3e2",
   "metadata": {},
   "outputs": [],
   "source": [
    "# Crosstab for family status and department \n",
    "family_status_department = pd.crosstab(df_ords_prods_cust_merged_4['department_name'], df_ords_prods_cust_merged_4['fam_status'], dropna = False)"
   ]
  },
  {
   "cell_type": "code",
   "execution_count": 288,
   "id": "fed92aed",
   "metadata": {},
   "outputs": [
    {
     "data": {
      "image/png": "[encoded data removed]",
      "text/plain": [
       "<Figure size 432x288 with 1 Axes>"
      ]
     },
     "metadata": {
      "needs_background": "light"
     },
     "output_type": "display_data"
    }
   ],
   "source": [
    "# Create visual for family status and department name\n",
    "bar_family_status_department = family_status_department.sort_index().plot(kind = 'bar', stacked = True, color = sns.color_palette('PuRd_r', 4))\n",
    "plt.legend(loc='upper left')\n",
    "plt.tight_layout()"
   ]
  },
  {
   "cell_type": "code",
   "execution_count": 289,
   "id": "0f32f267",
   "metadata": {},
   "outputs": [],
   "source": [
    "# Export family status and department name\n",
    "bar_family_status_department.figure.savefig(os.path.join(path,'04 Analysis','Visualizations','family_status_department.png'))"
   ]
  },
  {
   "cell_type": "code",
   "execution_count": 291,
   "id": "4642fac5",
   "metadata": {},
   "outputs": [
    {
     "data": {
      "image/png": "[encoded data removed]",
      "text/plain": [
       "<Figure size 432x288 with 1 Axes>"
      ]
     },
     "metadata": {
      "needs_background": "light"
     },
     "output_type": "display_data"
    }
   ],
   "source": [
    "# 100% stacked bar chart\n",
    "bar_family_status_department_100 = family_status_department.sort_index().apply(lambda r: r/r.sum()*100, axis=1).plot(kind = 'bar', stacked = True, color = sns.color_palette('PuRd_r', 4))\n",
    "plt.legend(loc='upper left')\n",
    "plt.tight_layout()"
   ]
  },
  {
   "cell_type": "code",
   "execution_count": 292,
   "id": "f2e354ad",
   "metadata": {},
   "outputs": [],
   "source": [
    "# Export family status and department name stacked \n",
    "bar_family_status_department_100.figure.savefig(os.path.join(path,'04 Analysis','Visualizations','family_status_department_100.png'))"
   ]
  },
  {
   "cell_type": "markdown",
   "id": "f2c54112",
   "metadata": {},
   "source": [
    "There is no connection between age and family status that impacts ordering habits. "
   ]
  },
  {
   "cell_type": "markdown",
   "id": "e5812040",
   "metadata": {},
   "source": [
    "# Income"
   ]
  },
  {
   "cell_type": "markdown",
   "id": "5990669c",
   "metadata": {},
   "source": [
    "# Key questions #5.E: What different classifications does the demographic information suggest? Income & certain types of goods?"
   ]
  },
  {
   "cell_type": "code",
   "execution_count": 35,
   "id": "997bd940",
   "metadata": {},
   "outputs": [],
   "source": [
    "# Crosstab for department name and income for visualization\n",
    "dept_name_income = pd.crosstab(df_ords_prods_cust_merged_5['department_name'], df_ords_prods_cust_merged_5['income_range'], dropna = False)"
   ]
  },
  {
   "cell_type": "code",
   "execution_count": 297,
   "id": "8f2b65bc",
   "metadata": {},
   "outputs": [
    {
     "data": {
      "image/png": "[encoded data removed]",
      "text/plain": [
       "<Figure size 432x288 with 1 Axes>"
      ]
     },
     "metadata": {
      "needs_background": "light"
     },
     "output_type": "display_data"
    }
   ],
   "source": [
    "bar_dept_name_income = dept_name_income.plot.bar(stacked = True, color = sns.color_palette('Greens_r', 7))\n",
    "plt.legend(title = 'income_range',loc='center left', bbox_to_anchor=(1, 0.5))\n",
    "plt.tight_layout()"
   ]
  },
  {
   "cell_type": "markdown",
   "id": "0a40423d",
   "metadata": {},
   "source": [
    "Customers in the imcome range of $40k - $160k should be target customers. "
   ]
  },
  {
   "cell_type": "code",
   "execution_count": 298,
   "id": "5e6d6d9c",
   "metadata": {},
   "outputs": [],
   "source": [
    "# Export department name and income for visualization\n",
    "bar_dept_name_income.figure.savefig(os.path.join(path,'04 Analysis','Visualizations','bar_dept_name_income.png'))"
   ]
  },
  {
   "cell_type": "code",
   "execution_count": 38,
   "id": "ef6337f5",
   "metadata": {},
   "outputs": [
    {
     "data": {
      "image/png": "[encoded data removed]",
      "text/plain": [
       "<Figure size 432x288 with 1 Axes>"
      ]
     },
     "metadata": {
      "needs_background": "light"
     },
     "output_type": "display_data"
    }
   ],
   "source": [
    "# total orders per age group\n",
    "orders_income = df_ords_prods_cust_merged_5['income_range'].value_counts().sort_index().plot.bar(color = sns.color_palette('Greens_r', 1))\n",
    "plt.xticks(rotation= 30, horizontalalignment=\"center\")\n",
    "plt.tight_layout()"
   ]
  },
  {
   "cell_type": "markdown",
   "id": "c5e21486",
   "metadata": {},
   "source": [
    "Total by orders indicate the same information. Customers in the imcome range of  40𝑘− 160k should be target customers."
   ]
  },
  {
   "cell_type": "code",
   "execution_count": 39,
   "id": "5feb792c",
   "metadata": {},
   "outputs": [],
   "source": [
    "# Export total orders per age group\n",
    "orders_income.figure.savefig(os.path.join(path,'04 Analysis','Visualizations','orders_income.png'))"
   ]
  },
  {
   "cell_type": "markdown",
   "id": "13466cb0",
   "metadata": {},
   "source": [
    "# Key questions #5.E: What different classifications does the demographic information suggest? Family status & certain types of goods?"
   ]
  },
  {
   "cell_type": "code",
   "execution_count": 40,
   "id": "cc382741",
   "metadata": {},
   "outputs": [],
   "source": [
    "# Crosstab for department name and family status for visualization\n",
    "dept_name_dependants = pd.crosstab(df_ords_prods_cust_merged_5['department_name'], df_ords_prods_cust_merged_5['fam_status'], dropna = False)"
   ]
  },
  {
   "cell_type": "code",
   "execution_count": 299,
   "id": "2d0cc511",
   "metadata": {},
   "outputs": [
    {
     "data": {
      "image/png": "[encoded data removed]",
      "text/plain": [
       "<Figure size 432x288 with 1 Axes>"
      ]
     },
     "metadata": {
      "needs_background": "light"
     },
     "output_type": "display_data"
    }
   ],
   "source": [
    "bar_dept_name_dependants = dept_name_dependants.plot.bar(stacked = True, color = sns.color_palette('Purples_r', 4))\n",
    "plt.legend(title = 'fam_status',loc='upper left')\n",
    "plt.tight_layout()"
   ]
  },
  {
   "cell_type": "code",
   "execution_count": 300,
   "id": "18bb011a",
   "metadata": {},
   "outputs": [],
   "source": [
    "# Export department name and family status\n",
    "bar_dept_name_dependants.figure.savefig(os.path.join(path,'04 Analysis','Visualizations','bar_dept_name_dependant.png'))"
   ]
  },
  {
   "cell_type": "code",
   "execution_count": 43,
   "id": "7ba286df",
   "metadata": {},
   "outputs": [
    {
     "data": {
      "image/png": "[encoded data removed]",
      "text/plain": [
       "<Figure size 432x288 with 1 Axes>"
      ]
     },
     "metadata": {
      "needs_background": "light"
     },
     "output_type": "display_data"
    }
   ],
   "source": [
    "# total orders by family status \n",
    "orders_family_status = df_ords_prods_cust_merged_5['fam_status'].value_counts().sort_index().plot.bar(color = sns.color_palette('Purples', 1))\n",
    "plt.xticks(rotation= 20, horizontalalignment=\"center\")\n",
    "plt.tight_layout()"
   ]
  },
  {
   "cell_type": "markdown",
   "id": "f94ecebe",
   "metadata": {},
   "source": [
    "Married customers should be targeted for major marketing strategies for all top selling departments. "
   ]
  },
  {
   "cell_type": "code",
   "execution_count": 44,
   "id": "139943b3",
   "metadata": {},
   "outputs": [],
   "source": [
    "# Export total orders by family status \n",
    "orders_family_status.figure.savefig(os.path.join(path,'04 Analysis','Visualizations','orders_family_status.png'))"
   ]
  },
  {
   "cell_type": "code",
   "execution_count": 45,
   "id": "3960cc70",
   "metadata": {},
   "outputs": [],
   "source": [
    "# Crosstab for department name and family status for visualization\n",
    "dept_name_dependants = pd.crosstab(df_ords_prods_cust_merged_5['department_name'], df_ords_prods_cust_merged_5['number_of_dependants'], dropna = False)"
   ]
  },
  {
   "cell_type": "code",
   "execution_count": 59,
   "id": "44ee36fd",
   "metadata": {
    "scrolled": false
   },
   "outputs": [
    {
     "data": {
      "text/plain": [
       "<matplotlib.legend.Legend at 0x189f99dabb0>"
      ]
     },
     "execution_count": 59,
     "metadata": {},
     "output_type": "execute_result"
    },
    {
     "data": {
      "image/png": "[encoded data removed]",
      "text/plain": [
       "<Figure size 432x288 with 1 Axes>"
      ]
     },
     "metadata": {
      "needs_background": "light"
     },
     "output_type": "display_data"
    }
   ],
   "source": [
    "bar_dept_name_dependants = dept_name_dependants.plot.bar(stacked = True, color = sns.color_palette('rainbow', 4))\n",
    "plt.legend(title = 'number_of_dependants',loc='upper left')"
   ]
  },
  {
   "cell_type": "code",
   "execution_count": 62,
   "id": "fd963dc4",
   "metadata": {},
   "outputs": [],
   "source": [
    "# Export department name and family status\n",
    "bar_dept_name_dependants.figure.savefig(os.path.join(path,'04 Analysis','Visualizations','dept_name_dependants.png'))"
   ]
  },
  {
   "cell_type": "markdown",
   "id": "c6be4766",
   "metadata": {},
   "source": [
    "# order hour of day and orders day of the week"
   ]
  },
  {
   "cell_type": "markdown",
   "id": "3b3f1fbc",
   "metadata": {},
   "source": [
    "# Key question #1: The sales team needs to know what the busiest days of the week and hours of the day are (i.e., the days and times with the most orders) in order to schedule ads at times when there are fewer orders."
   ]
  },
  {
   "cell_type": "code",
   "execution_count": 127,
   "id": "63dd2638",
   "metadata": {},
   "outputs": [
    {
     "data": {
      "image/png": "[encoded data removed]",
      "text/plain": [
       "<Figure size 432x288 with 1 Axes>"
      ]
     },
     "metadata": {
      "needs_background": "light"
     },
     "output_type": "display_data"
    }
   ],
   "source": [
    "# Busiest hours of the day\n",
    "bar_busiest_hour = df_ords_prods_cust_merged_4['order_hour_of_day'].value_counts().sort_index().plot.bar(color = sns.color_palette('Oranges', 1))"
   ]
  },
  {
   "cell_type": "code",
   "execution_count": 128,
   "id": "0bafe6bc",
   "metadata": {},
   "outputs": [],
   "source": [
    "# Export busiest hours of the day\n",
    "bar_busiest_hour.figure.savefig(os.path.join(path,'04 Analysis','Visualizations','bar_busiest_hour.png'))"
   ]
  },
  {
   "cell_type": "code",
   "execution_count": 132,
   "id": "0cc832c5",
   "metadata": {},
   "outputs": [
    {
     "data": {
      "image/png": "[encoded data removed]",
      "text/plain": [
       "<Figure size 432x288 with 1 Axes>"
      ]
     },
     "metadata": {
      "needs_background": "light"
     },
     "output_type": "display_data"
    }
   ],
   "source": [
    "# Busiest day of the week\n",
    "bar_busiest_day_of_week = df_ords_prods_cust_merged_4['orders_day_of_week'].value_counts().sort_index().plot.bar(color = sns.color_palette('Oranges', 1))"
   ]
  },
  {
   "cell_type": "code",
   "execution_count": 133,
   "id": "5a863d31",
   "metadata": {},
   "outputs": [],
   "source": [
    "# Export busiest day of week\n",
    "bar_busiest_day_of_week.figure.savefig(os.path.join(path,'04 Analysis','Visualizations','busiest_day_of_week.png'))"
   ]
  },
  {
   "cell_type": "markdown",
   "id": "f63441c9",
   "metadata": {},
   "source": [
    "# They also want to know whether there are particular times of the day when people spend the most money, as this might inform the type of products they advertise at these times."
   ]
  },
  {
   "cell_type": "code",
   "execution_count": 135,
   "id": "d461464e",
   "metadata": {},
   "outputs": [],
   "source": [
    "# Mean price per hour\n",
    "prices_hour = df_ords_prods_cust_merged_4.groupby('order_hour_of_day').agg({'prices': ['mean']})"
   ]
  },
  {
   "cell_type": "code",
   "execution_count": 155,
   "id": "112d0c47",
   "metadata": {},
   "outputs": [
    {
     "data": {
      "text/plain": [
       "Text(0, 0.5, 'mean_price')"
      ]
     },
     "execution_count": 155,
     "metadata": {},
     "output_type": "execute_result"
    },
    {
     "data": {
      "image/png": "[encoded data removed]",
      "text/plain": [
       "<Figure size 432x288 with 1 Axes>"
      ]
     },
     "metadata": {
      "needs_background": "light"
     },
     "output_type": "display_data"
    }
   ],
   "source": [
    "# Create a line chart of mean prices per hour of the day \n",
    "mean_price_line_chart_hour = prices_hour.plot.line(legend = False,color = sns.color_palette('Oranges',1))\n",
    "plt.ylabel('mean_price')"
   ]
  },
  {
   "cell_type": "code",
   "execution_count": 156,
   "id": "10520dc9",
   "metadata": {},
   "outputs": [],
   "source": [
    "# Export mean price per hour\n",
    "mean_price_line_chart_hour.figure.savefig(os.path.join(path,'04 Analysis','Visualizations','prices_hour.png'))"
   ]
  },
  {
   "cell_type": "code",
   "execution_count": 144,
   "id": "28ec6159",
   "metadata": {},
   "outputs": [],
   "source": [
    "# Mean price per weekday\n",
    "prices_weekday = df_ords_prods_cust_merged_4.groupby('weekday').agg({'prices': ['mean']})"
   ]
  },
  {
   "cell_type": "code",
   "execution_count": 149,
   "id": "ee17fcd3",
   "metadata": {},
   "outputs": [
    {
     "data": {
      "text/plain": [
       "Text(0, 0.5, 'mean_price')"
      ]
     },
     "execution_count": 149,
     "metadata": {},
     "output_type": "execute_result"
    },
    {
     "data": {
      "image/png": "[encoded data removed]",
      "text/plain": [
       "<Figure size 432x288 with 1 Axes>"
      ]
     },
     "metadata": {
      "needs_background": "light"
     },
     "output_type": "display_data"
    }
   ],
   "source": [
    "# Create a line chart of mean prices per weekday\n",
    "mean_price_line_chart_weekday = prices_weekday.plot.line(legend = False, color = sns.color_palette('Oranges', 1))\n",
    "plt.ylabel('mean_price')"
   ]
  },
  {
   "cell_type": "code",
   "execution_count": 157,
   "id": "f7926d79",
   "metadata": {},
   "outputs": [],
   "source": [
    "# Export mean price per weekday\n",
    "mean_price_line_chart_weekday.figure.savefig(os.path.join(path,'04 Analysis','Visualizations','prices_weekday.png'))"
   ]
  },
  {
   "cell_type": "code",
   "execution_count": 47,
   "id": "e9db3a02",
   "metadata": {},
   "outputs": [],
   "source": [
    "# Crosstab for department name and for part of the day visualization\n",
    "dept_name_part_day = pd.crosstab(df_ords_prods_cust_merged_5['department_name'], df_ords_prods_cust_merged_5['part_of_day'], dropna = False)"
   ]
  },
  {
   "cell_type": "code",
   "execution_count": 261,
   "id": "cb4b9b76",
   "metadata": {},
   "outputs": [
    {
     "data": {
      "text/plain": [
       "(array([0, 1, 2, 3, 4]),\n",
       " [Text(0, 0, 'beverages'),\n",
       "  Text(1, 0, 'dairy eggs'),\n",
       "  Text(2, 0, 'frozen'),\n",
       "  Text(3, 0, 'pantry'),\n",
       "  Text(4, 0, 'produce')])"
      ]
     },
     "execution_count": 261,
     "metadata": {},
     "output_type": "execute_result"
    },
    {
     "data": {
      "image/png": "[encoded data removed]",
      "text/plain": [
       "<Figure size 432x288 with 1 Axes>"
      ]
     },
     "metadata": {
      "needs_background": "light"
     },
     "output_type": "display_data"
    }
   ],
   "source": [
    "bar_dept_name_part_day = dept_name_part_day.plot.bar(stacked = True, color = sns.color_palette('spring', 4))\n",
    "plt.legend(title = 'part_of_day',loc='upper left')\n",
    "plt.xticks(rotation= 20, horizontalalignment=\"center\")"
   ]
  },
  {
   "cell_type": "code",
   "execution_count": 263,
   "id": "c7ea89b9",
   "metadata": {},
   "outputs": [],
   "source": [
    "# Export department name and for part of the day\n",
    "bar_dept_name_part_day.figure.savefig(os.path.join(path,'04 Analysis','Visualizations','dept_name_part_day.png'))"
   ]
  },
  {
   "cell_type": "code",
   "execution_count": 49,
   "id": "1206894b",
   "metadata": {},
   "outputs": [],
   "source": [
    "# Crosstab for department name and weekday visualization\n",
    "dept_name_weekday = pd.crosstab(df_ords_prods_cust_merged_5['department_name'], df_ords_prods_cust_merged_5['weekday'], dropna = False)"
   ]
  },
  {
   "cell_type": "code",
   "execution_count": 262,
   "id": "9afeb3a8",
   "metadata": {},
   "outputs": [
    {
     "data": {
      "text/plain": [
       "(array([0, 1, 2, 3, 4]),\n",
       " [Text(0, 0, 'beverages'),\n",
       "  Text(1, 0, 'dairy eggs'),\n",
       "  Text(2, 0, 'frozen'),\n",
       "  Text(3, 0, 'pantry'),\n",
       "  Text(4, 0, 'produce')])"
      ]
     },
     "execution_count": 262,
     "metadata": {},
     "output_type": "execute_result"
    },
    {
     "data": {
      "image/png": "[encoded data removed]",
      "text/plain": [
       "<Figure size 432x288 with 1 Axes>"
      ]
     },
     "metadata": {
      "needs_background": "light"
     },
     "output_type": "display_data"
    }
   ],
   "source": [
    "bar_dept_name_weekday = dept_name_weekday.plot.bar(stacked = True, color  = sns.color_palette('spring_r', 7))\n",
    "plt.legend(title = 'weekday',loc='upper left')\n",
    "plt.xticks(rotation= 20, horizontalalignment=\"center\")"
   ]
  },
  {
   "cell_type": "code",
   "execution_count": 264,
   "id": "19a9d3db",
   "metadata": {},
   "outputs": [],
   "source": [
    "# Export department name and weekday\n",
    "bar_dept_name_weekday.figure.savefig(os.path.join(path,'04 Analysis','Visualizations','dept_name_weekday.png'))"
   ]
  },
  {
   "cell_type": "markdown",
   "id": "e6dc2a53",
   "metadata": {},
   "source": [
    "# parental status"
   ]
  },
  {
   "cell_type": "markdown",
   "id": "258d0449",
   "metadata": {},
   "source": [
    "# Key question #5.F: What differences can you find in ordering habits of different customer profiles? Consider the price of orders, the frequency of orders, the products customers are ordering, and anything else you can think of."
   ]
  },
  {
   "cell_type": "code",
   "execution_count": 51,
   "id": "98771789",
   "metadata": {},
   "outputs": [],
   "source": [
    "# Crosstab for department name and parental status visualization\n",
    "dept_name_parental_status = pd.crosstab(df_ords_prods_cust_merged_5['department_name'], df_ords_prods_cust_merged_5['parental_status'], dropna = False)"
   ]
  },
  {
   "cell_type": "code",
   "execution_count": 304,
   "id": "e3bc4586",
   "metadata": {},
   "outputs": [
    {
     "data": {
      "image/png": "[encoded data removed]",
      "text/plain": [
       "<Figure size 432x288 with 1 Axes>"
      ]
     },
     "metadata": {
      "needs_background": "light"
     },
     "output_type": "display_data"
    }
   ],
   "source": [
    "bar_dept_name_parental_status = dept_name_parental_status.plot.bar(stacked = True, color = sns.color_palette('RdGy', 2))\n",
    "plt.legend(title = 'parental_status',loc='upper left')\n",
    "plt.tight_layout()"
   ]
  },
  {
   "cell_type": "code",
   "execution_count": 305,
   "id": "d4fdc8d2",
   "metadata": {},
   "outputs": [],
   "source": [
    "# Export department name and parental status visualization\n",
    "bar_dept_name_parental_status.figure.savefig(os.path.join(path, '04 Analysis','Visualizations', 'dept_name_parental_status.png'))"
   ]
  },
  {
   "cell_type": "code",
   "execution_count": 53,
   "id": "91591b4b",
   "metadata": {},
   "outputs": [],
   "source": [
    "# Crosstab for weekday and parental status visualization\n",
    "dept_name_parental_status_weekday = pd.crosstab(df_ords_prods_cust_merged_5['weekday'], df_ords_prods_cust_merged_5['parental_status'], dropna = False)"
   ]
  },
  {
   "cell_type": "code",
   "execution_count": 306,
   "id": "6301a6ad",
   "metadata": {},
   "outputs": [
    {
     "data": {
      "image/png": "[encoded data removed]",
      "text/plain": [
       "<Figure size 432x288 with 1 Axes>"
      ]
     },
     "metadata": {
      "needs_background": "light"
     },
     "output_type": "display_data"
    }
   ],
   "source": [
    "bar_dept_name_parental_status_weekday = dept_name_parental_status_weekday.plot.bar(stacked = True, color = sns.color_palette('RdGy', 2))\n",
    "plt.legend(title = 'parental_status',loc='upper left')\n",
    "plt.tight_layout()"
   ]
  },
  {
   "cell_type": "code",
   "execution_count": 307,
   "id": "0a455e66",
   "metadata": {},
   "outputs": [],
   "source": [
    "# Export weekday and parental status\n",
    "bar_dept_name_parental_status_weekday.figure.savefig(os.path.join(path, '04 Analysis','Visualizations', 'dept_name_parental_status_weekday.png'))"
   ]
  },
  {
   "cell_type": "code",
   "execution_count": 249,
   "id": "f16af16b",
   "metadata": {},
   "outputs": [],
   "source": [
    "# crosstab age and spending flag\n",
    "age_spending = pd.crosstab(df_ords_prods_cust_merged_4['age_group'], df_ords_prods_cust_merged_4['spending_flag'], dropna = False)"
   ]
  },
  {
   "cell_type": "code",
   "execution_count": 312,
   "id": "788734d3",
   "metadata": {},
   "outputs": [
    {
     "data": {
      "image/png": "[encoded data removed]",
      "text/plain": [
       "<Figure size 432x288 with 1 Axes>"
      ]
     },
     "metadata": {
      "needs_background": "light"
     },
     "output_type": "display_data"
    }
   ],
   "source": [
    "# bar chart age and spending flag\n",
    "bar_age_spending = age_spending.plot(kind = 'bar', stacked = True, color = sns.color_palette('coolwarm',3))\n",
    "plt.legend(title = 'spending_flag',loc='upper left')\n",
    "plt.tight_layout()"
   ]
  },
  {
   "cell_type": "code",
   "execution_count": 313,
   "id": "1e5802ab",
   "metadata": {},
   "outputs": [],
   "source": [
    "# Export age and spending flag\n",
    "bar_age_spending.figure.savefig(os.path.join(path, '04 Analysis','Visualizations', 'age_spending.png'))"
   ]
  },
  {
   "cell_type": "code",
   "execution_count": 255,
   "id": "778e58a4",
   "metadata": {},
   "outputs": [],
   "source": [
    "# crosstab number of dependants and spending flag\n",
    "number_of_dependants_spending_flag = pd.crosstab(df_ords_prods_cust_merged_4['number_of_dependants'], df_ords_prods_cust_merged_4['spending_flag'], dropna = False)"
   ]
  },
  {
   "cell_type": "code",
   "execution_count": 314,
   "id": "fa078711",
   "metadata": {},
   "outputs": [
    {
     "data": {
      "image/png": "[encoded data removed]",
      "text/plain": [
       "<Figure size 432x288 with 1 Axes>"
      ]
     },
     "metadata": {
      "needs_background": "light"
     },
     "output_type": "display_data"
    }
   ],
   "source": [
    "# bar chart number of dependants and spending flag\n",
    "bar_number_of_dependants_spending_flag  = number_of_dependants_spending_flag .plot(kind = 'bar', stacked = True, color = sns.color_palette('coolwarm',3))\n",
    "plt.legend(title = 'spending_flag',loc='upper left')\n",
    "plt.tight_layout()"
   ]
  },
  {
   "cell_type": "code",
   "execution_count": 315,
   "id": "a4d9acdd",
   "metadata": {},
   "outputs": [],
   "source": [
    "# Export number of dependants and spending flag\n",
    "bar_number_of_dependants_spending_flag.figure.savefig(os.path.join(path, '04 Analysis','Visualizations', 'number_of_dependants_spending_flag.png'))"
   ]
  },
  {
   "cell_type": "markdown",
   "id": "f31b15f2",
   "metadata": {},
   "source": [
    "# Aggregate the max, mean, and min variables on a customer-profile level for usage frequency and expenditure."
   ]
  },
  {
   "cell_type": "code",
   "execution_count": 168,
   "id": "90b8ec76",
   "metadata": {},
   "outputs": [],
   "source": [
    "# aggregating age + prices\n",
    "agg_age_price = df_ords_prods_cust_merged_4.groupby('age').agg({'prices' : ['min', 'mean', 'max']})"
   ]
  },
  {
   "cell_type": "code",
   "execution_count": 169,
   "id": "401b4449",
   "metadata": {},
   "outputs": [],
   "source": [
    "agg_age_price.to_clipboard()"
   ]
  },
  {
   "cell_type": "code",
   "execution_count": 171,
   "id": "124e1c3a",
   "metadata": {},
   "outputs": [],
   "source": [
    "# aggregating age + order number\n",
    "agg_age_order_number = df_ords_prods_cust_merged_4.groupby('age').agg({'order_number' : ['min', 'mean', 'max']})"
   ]
  },
  {
   "cell_type": "code",
   "execution_count": 173,
   "id": "283204fd",
   "metadata": {},
   "outputs": [],
   "source": [
    "agg_age_order_number.to_clipboard()"
   ]
  },
  {
   "cell_type": "code",
   "execution_count": 175,
   "id": "89e4eb44",
   "metadata": {},
   "outputs": [],
   "source": [
    "# aggregating income range + prices\n",
    "agg_income_range_price = df_ords_prods_cust_merged_4.groupby('income_range').agg({'prices' : ['min', 'mean', 'max']})"
   ]
  },
  {
   "cell_type": "code",
   "execution_count": 176,
   "id": "3a602ab1",
   "metadata": {},
   "outputs": [],
   "source": [
    "agg_income_range_price.to_clipboard()"
   ]
  },
  {
   "cell_type": "code",
   "execution_count": 177,
   "id": "d32f5d83",
   "metadata": {},
   "outputs": [],
   "source": [
    "# aggregating income range + prices\n",
    "agg_income_range_order_number = df_ords_prods_cust_merged_4.groupby('income_range').agg({'order_number' : ['min', 'mean', 'max']})"
   ]
  },
  {
   "cell_type": "code",
   "execution_count": 178,
   "id": "1dcb35f7",
   "metadata": {},
   "outputs": [],
   "source": [
    "agg_income_range_order_number.to_clipboard()"
   ]
  },
  {
   "cell_type": "code",
   "execution_count": 179,
   "id": "b1554978",
   "metadata": {},
   "outputs": [],
   "source": [
    "# aggregating fam status + prices\n",
    "agg_fam_status_price = df_ords_prods_cust_merged_4.groupby('fam_status').agg({'prices' : ['min', 'mean', 'max']})"
   ]
  },
  {
   "cell_type": "code",
   "execution_count": 180,
   "id": "91a5a92d",
   "metadata": {},
   "outputs": [],
   "source": [
    "agg_fam_status_price.to_clipboard()"
   ]
  },
  {
   "cell_type": "code",
   "execution_count": 181,
   "id": "9c971784",
   "metadata": {},
   "outputs": [],
   "source": [
    "# aggregating fam status + order number\n",
    "agg_fam_status_order_number = df_ords_prods_cust_merged_4.groupby('fam_status').agg({'order_number' : ['min', 'mean', 'max']})"
   ]
  },
  {
   "cell_type": "code",
   "execution_count": 182,
   "id": "2e2385eb",
   "metadata": {},
   "outputs": [],
   "source": [
    "agg_fam_status_order_number.to_clipboard()"
   ]
  },
  {
   "cell_type": "code",
   "execution_count": 183,
   "id": "03e182ce",
   "metadata": {},
   "outputs": [],
   "source": [
    "# aggregating # of dependants + prices\n",
    "agg_number_of_dependants_price = df_ords_prods_cust_merged_4.groupby('number_of_dependants').agg({'prices' : ['min', 'mean', 'max']})"
   ]
  },
  {
   "cell_type": "code",
   "execution_count": 184,
   "id": "fd10ad23",
   "metadata": {},
   "outputs": [],
   "source": [
    "agg_number_of_dependants_price.to_clipboard()"
   ]
  },
  {
   "cell_type": "code",
   "execution_count": 185,
   "id": "3ea7c177",
   "metadata": {},
   "outputs": [],
   "source": [
    "# aggregating # of dependants + order numbers\n",
    "agg_number_of_dependants_order_number = df_ords_prods_cust_merged_4.groupby('number_of_dependants').agg({'order_number' : ['min', 'mean', 'max']})"
   ]
  },
  {
   "cell_type": "code",
   "execution_count": 186,
   "id": "c37f23eb",
   "metadata": {},
   "outputs": [],
   "source": [
    "agg_number_of_dependants_order_number.to_clipboard()"
   ]
  },
  {
   "cell_type": "code",
   "execution_count": 187,
   "id": "80e71766",
   "metadata": {},
   "outputs": [],
   "source": [
    "# aggregating parental status+ prices\n",
    "agg_parental_status_price = df_ords_prods_cust_merged_4.groupby('parental_status').agg({'prices' : ['min', 'mean', 'max']})"
   ]
  },
  {
   "cell_type": "code",
   "execution_count": 188,
   "id": "fbee62d8",
   "metadata": {},
   "outputs": [],
   "source": [
    "agg_parental_status_priceagg_parental_status_order_number"
   ]
  },
  {
   "cell_type": "code",
   "execution_count": 189,
   "id": "58e82896",
   "metadata": {},
   "outputs": [],
   "source": [
    "# aggregating parental status+ order numbers\n",
    "agg_parental_status_order_number = df_ords_prods_cust_merged_4.groupby('parental_status').agg({'order_number' : ['min', 'mean', 'max']})"
   ]
  },
  {
   "cell_type": "code",
   "execution_count": 191,
   "id": "5b9c4ace",
   "metadata": {},
   "outputs": [],
   "source": [
    "agg_parental_status_order_number.to_clipboard()"
   ]
  },
  {
   "cell_type": "markdown",
   "id": "91361df0",
   "metadata": {},
   "source": [
    "# Compare your customer profiles with regions and departments. Can you identify a link between them? Customers may demonstrate different behaviors across regions, which could make this information important."
   ]
  },
  {
   "cell_type": "code",
   "execution_count": 200,
   "id": "f8ade628",
   "metadata": {},
   "outputs": [
    {
     "data": {
      "text/plain": [
       "(array([0, 1, 2, 3]),\n",
       " [Text(0, 0, 'Midwest'),\n",
       "  Text(1, 0, 'Northeast'),\n",
       "  Text(2, 0, 'South'),\n",
       "  Text(3, 0, 'West')])"
      ]
     },
     "execution_count": 200,
     "metadata": {},
     "output_type": "execute_result"
    },
    {
     "data": {
      "image/png": "[encoded data removed]",
      "text/plain": [
       "<Figure size 432x288 with 1 Axes>"
      ]
     },
     "metadata": {
      "needs_background": "light"
     },
     "output_type": "display_data"
    }
   ],
   "source": [
    "# show how customers distributed across regions\n",
    "region_bar = df_ords_prods_cust_merged_4['region'].value_counts().sort_index().plot.bar(color = sns.color_palette('cool', 4))\n",
    "plt.xticks(rotation= 20, horizontalalignment=\"center\")"
   ]
  },
  {
   "cell_type": "code",
   "execution_count": 201,
   "id": "0b2d4804",
   "metadata": {},
   "outputs": [],
   "source": [
    "# Export how customers distributed across regions\n",
    "region_bar.figure.savefig(os.path.join(path, '04 Analysis','Visualizations', 'region_bar.png'))"
   ]
  },
  {
   "cell_type": "markdown",
   "id": "1b13a7d4",
   "metadata": {},
   "source": [
    "# Key question #5.C:The marketing and sales teams are particularly interested in the different types of customers in their system and how their ordering behaviors differ. For example: Are there differences in ordering habits based on a customer’s region?"
   ]
  },
  {
   "cell_type": "code",
   "execution_count": 205,
   "id": "9354c985",
   "metadata": {},
   "outputs": [],
   "source": [
    "# crosstab ordering habits based on a customer’s region\n",
    "department_region = pd.crosstab(df_ords_prods_cust_merged_4['department_name'], df_ords_prods_cust_merged_4['region'], dropna = False)"
   ]
  },
  {
   "cell_type": "code",
   "execution_count": 277,
   "id": "8a5e1361",
   "metadata": {},
   "outputs": [
    {
     "data": {
      "image/png": "[encoded data removed]",
      "text/plain": [
       "<Figure size 432x288 with 1 Axes>"
      ]
     },
     "metadata": {
      "needs_background": "light"
     },
     "output_type": "display_data"
    }
   ],
   "source": [
    "# bar chart ordering habits based on a customer’s region\n",
    "bar_department_region = department_region.plot(kind = 'bar', stacked = True, color = sns.color_palette('cool', 4))\n",
    "plt.tight_layout()"
   ]
  },
  {
   "cell_type": "code",
   "execution_count": 278,
   "id": "40361d12",
   "metadata": {},
   "outputs": [],
   "source": [
    "# Export ordering habits based on a customer’s region\n",
    "bar_department_region.figure.savefig(os.path.join(path, '04 Analysis','Visualizations', 'bar_department_region.png'))"
   ]
  },
  {
   "cell_type": "code",
   "execution_count": 279,
   "id": "7dfb29da",
   "metadata": {},
   "outputs": [
    {
     "data": {
      "image/png": "[encoded data removed]",
      "text/plain": [
       "<Figure size 432x288 with 1 Axes>"
      ]
     },
     "metadata": {
      "needs_background": "light"
     },
     "output_type": "display_data"
    }
   ],
   "source": [
    "# 100% stacked bar chart \n",
    "\n",
    "bar_department_region_100 = department_region .apply(lambda r: r/r.sum()*100, axis=1).plot(kind = 'bar', stacked = True, color = sns.color_palette('cool', 4))\n",
    "plt.legend(loc='center left', bbox_to_anchor=(1, 0.5))\n",
    "plt.tight_layout()"
   ]
  },
  {
   "cell_type": "code",
   "execution_count": 280,
   "id": "5832f7a0",
   "metadata": {},
   "outputs": [],
   "source": [
    "# Export ordering habits based on a customer’s region stacked bar chart\n",
    "bar_department_region_100.figure.savefig(os.path.join(path, '04 Analysis','Visualizations', 'department_region_100.png'))"
   ]
  },
  {
   "cell_type": "code",
   "execution_count": 215,
   "id": "71bbc619",
   "metadata": {},
   "outputs": [],
   "source": [
    "# Crosstab for age and region\n",
    "age_region = pd.crosstab(df_ords_prods_cust_merged_4['age_group'], df_ords_prods_cust_merged_4['region'], dropna = False)"
   ]
  },
  {
   "cell_type": "code",
   "execution_count": 281,
   "id": "39592ebe",
   "metadata": {},
   "outputs": [
    {
     "data": {
      "image/png": "[encoded data removed]",
      "text/plain": [
       "<Figure size 432x288 with 1 Axes>"
      ]
     },
     "metadata": {
      "needs_background": "light"
     },
     "output_type": "display_data"
    }
   ],
   "source": [
    "# bar chart for age and region\n",
    "bar_age_region = age_region.plot(kind = 'bar', stacked = True, color = sns.color_palette('cool', 4))\n",
    "plt.tight_layout()"
   ]
  },
  {
   "cell_type": "code",
   "execution_count": 217,
   "id": "47f43897",
   "metadata": {},
   "outputs": [],
   "source": [
    "# Export age and region bar chart\n",
    "bar_age_region.figure.savefig(os.path.join(path, '04 Analysis','Visualizations', 'age_region.png'))"
   ]
  },
  {
   "cell_type": "code",
   "execution_count": 218,
   "id": "3987eb26",
   "metadata": {},
   "outputs": [],
   "source": [
    "# Crosstab for income and region\n",
    "income_region = pd.crosstab(df_ords_prods_cust_merged_4['income_range'], df_ords_prods_cust_merged_4['region'], dropna = False)"
   ]
  },
  {
   "cell_type": "code",
   "execution_count": 282,
   "id": "92c6a747",
   "metadata": {},
   "outputs": [
    {
     "data": {
      "image/png": "[encoded data removed]",
      "text/plain": [
       "<Figure size 432x288 with 1 Axes>"
      ]
     },
     "metadata": {
      "needs_background": "light"
     },
     "output_type": "display_data"
    }
   ],
   "source": [
    "# bar chart for income and region\n",
    "bar_income_region = income_region.plot(kind = 'bar', stacked = True, color = sns.color_palette('cool', 4))\n",
    "plt.tight_layout()"
   ]
  },
  {
   "cell_type": "code",
   "execution_count": 283,
   "id": "130d85a4",
   "metadata": {},
   "outputs": [],
   "source": [
    "# Export income and region bar chart\n",
    "bar_income_region.figure.savefig(os.path.join(path, '04 Analysis','Visualizations', 'income_region.png'))"
   ]
  },
  {
   "cell_type": "markdown",
   "id": "94e1d195",
   "metadata": {},
   "source": [
    "# Instacart has a lot of products with different price tags. Marketing and sales want to use simpler price range groupings to help direct their efforts."
   ]
  },
  {
   "cell_type": "code",
   "execution_count": 227,
   "id": "7ce83275",
   "metadata": {},
   "outputs": [
    {
     "data": {
      "text/plain": [
       "Text(0, 0.5, '')"
      ]
     },
     "execution_count": 227,
     "metadata": {},
     "output_type": "execute_result"
    },
    {
     "data": {
      "image/png": "[encoded data removed]",
      "text/plain": [
       "<Figure size 432x288 with 1 Axes>"
      ]
     },
     "metadata": {},
     "output_type": "display_data"
    }
   ],
   "source": [
    "# show simpler price range groupings\n",
    "pie_time_product_price = df_ords_prods_cust_merged_4['price_range_loc'].value_counts().sort_index().plot.pie(autopct='%1.1f%%', colors = sns.color_palette('coolwarm', 3))\n",
    "plt.ylabel('')"
   ]
  },
  {
   "cell_type": "code",
   "execution_count": 230,
   "id": "eaaab2d4",
   "metadata": {},
   "outputs": [],
   "source": [
    "# Export price range groupings\n",
    "pie_time_product_price.figure.savefig(os.path.join(path, '04 Analysis','Visualizations', 'pie_time_product_price.png'))"
   ]
  },
  {
   "cell_type": "code",
   "execution_count": 232,
   "id": "9ffbd470",
   "metadata": {},
   "outputs": [],
   "source": [
    "# crosstab of departments and price ranges of top selling departments\n",
    "departments_price_range = pd.crosstab(df_ords_prods_cust_merged_5['department_name'], df_ords_prods_cust_merged_5['price_range_loc'], dropna = False)"
   ]
  },
  {
   "cell_type": "code",
   "execution_count": 234,
   "id": "cd8c5281",
   "metadata": {},
   "outputs": [
    {
     "data": {
      "image/png": "[encoded data removed]",
      "text/plain": [
       "<Figure size 432x288 with 1 Axes>"
      ]
     },
     "metadata": {
      "needs_background": "light"
     },
     "output_type": "display_data"
    }
   ],
   "source": [
    "# bar chart departments and price ranges\n",
    "bar_departments_price_range = departments_price_range.plot(kind = 'bar', stacked = True, color = sns.color_palette('coolwarm', 3))\n",
    "plt.xticks(rotation= 20, horizontalalignment=\"center\")\n",
    "plt.tight_layout()"
   ]
  },
  {
   "cell_type": "code",
   "execution_count": 235,
   "id": "f6a15b39",
   "metadata": {},
   "outputs": [],
   "source": [
    "# Export departments and price ranges of top selling departments\n",
    "bar_departments_price_range.figure.savefig(os.path.join(path, '04 Analysis','Visualizations', 'bar_departments_price_range.png'))"
   ]
  },
  {
   "cell_type": "code",
   "execution_count": 236,
   "id": "bdec9f0f",
   "metadata": {},
   "outputs": [],
   "source": [
    "# crosstab of spedning flag and price ranges\n",
    "spending_flag_price_range = pd.crosstab(df_ords_prods_cust_merged_5['spending_flag'], df_ords_prods_cust_merged_5['price_range_loc'], dropna = False)"
   ]
  },
  {
   "cell_type": "code",
   "execution_count": 237,
   "id": "4bdf8cd4",
   "metadata": {},
   "outputs": [
    {
     "data": {
      "image/png": "[encoded data removed]",
      "text/plain": [
       "<Figure size 432x288 with 1 Axes>"
      ]
     },
     "metadata": {
      "needs_background": "light"
     },
     "output_type": "display_data"
    }
   ],
   "source": [
    "# bar chart spending flag and price ranges\n",
    "spending_flag_price_range = spending_flag_price_range.plot(kind = 'bar', stacked = True, color = sns.color_palette('coolwarm', 3))\n",
    "plt.xticks(rotation= 20, horizontalalignment=\"center\")\n",
    "plt.tight_layout()"
   ]
  },
  {
   "cell_type": "code",
   "execution_count": 238,
   "id": "2db63405",
   "metadata": {},
   "outputs": [],
   "source": [
    "# Export spending flag and price ranges\n",
    "spending_flag_price_range.figure.savefig(os.path.join(path, '04 Analysis','Visualizations', 'spending_flag_price_range.png'))"
   ]
  },
  {
   "cell_type": "markdown",
   "id": "d2fd47c0",
   "metadata": {},
   "source": [
    "# Additional key questions"
   ]
  },
  {
   "cell_type": "markdown",
   "id": "b8fa0d84",
   "metadata": {},
   "source": [
    "# Key questions #5.A: The marketing and sales teams are particularly interested in the different types of customers in their system and how their ordering behaviors differ. For example: What’s the distribution among users in regards to their brand loyalty (i.e., how often do they return to Instacart)?"
   ]
  },
  {
   "cell_type": "code",
   "execution_count": 240,
   "id": "17862f4c",
   "metadata": {},
   "outputs": [
    {
     "data": {
      "image/png": "[encoded data removed]",
      "text/plain": [
       "<Figure size 432x288 with 1 Axes>"
      ]
     },
     "metadata": {},
     "output_type": "display_data"
    }
   ],
   "source": [
    "# distribution among customers in regards to brand loyalty \n",
    "loyalty_pie = df_ords_prods_cust_merged_4['loyalty_flag'].value_counts().sort_index().plot.pie(autopct='%1.1f%%', colors = sns.color_palette('coolwarm',3))\n",
    "plt.ylabel('')\n",
    "plt.tight_layout()"
   ]
  },
  {
   "cell_type": "code",
   "execution_count": 247,
   "id": "c6a75e8c",
   "metadata": {},
   "outputs": [],
   "source": [
    "# Export customers in regards to brand loyalty \n",
    "loyalty_pie.figure.savefig(os.path.join(path, '04 Analysis','Visualizations', 'loyalty_pie.png'))"
   ]
  },
  {
   "cell_type": "markdown",
   "id": "3d0e0784",
   "metadata": {},
   "source": [
    "# The marketing and sales teams are particularly interested in the different types of customers in their system and how their ordering behaviors differ. For example: Are there differences in ordering habits based on a customer’s loyalty status?"
   ]
  },
  {
   "cell_type": "code",
   "execution_count": 274,
   "id": "bf5c91c5",
   "metadata": {},
   "outputs": [],
   "source": [
    "# crosstab loyalty status and spending flag\n",
    "frequency_flag_loyalty_status = pd.crosstab(df_ords_prods_cust_merged_4['frequency_flag'], df_ords_prods_cust_merged_4['loyalty_flag'], dropna = False)"
   ]
  },
  {
   "cell_type": "code",
   "execution_count": 275,
   "id": "bf870628",
   "metadata": {},
   "outputs": [
    {
     "data": {
      "image/png": "[encoded data removed]",
      "text/plain": [
       "<Figure size 432x288 with 1 Axes>"
      ]
     },
     "metadata": {
      "needs_background": "light"
     },
     "output_type": "display_data"
    }
   ],
   "source": [
    "# bar chart loyalty status and spending flag\n",
    "bar_frequency_flag_loyalty_status = frequency_flag_loyalty_status.plot(kind = 'bar', stacked = True, color = sns.color_palette('coolwarm',3))\n",
    "plt.tight_layout()"
   ]
  },
  {
   "cell_type": "code",
   "execution_count": 276,
   "id": "a7ae58ca",
   "metadata": {},
   "outputs": [],
   "source": [
    "# Export loyalty status and spending flag\n",
    "bar_frequency_flag_loyalty_status.figure.savefig(os.path.join(path, '04 Analysis','Visualizations', 'frequency_flag_loyalty_status.png'))"
   ]
  },
  {
   "cell_type": "code",
   "execution_count": 258,
   "id": "b9cf4509",
   "metadata": {},
   "outputs": [],
   "source": [
    "# export most recent data frame\n",
    "df_ords_prods_cust_merged_4.to_pickle(os.path.join(path,'02 Data','Prepared Data','orders_products_merged_8.pkl'))"
   ]
  },
  {
   "cell_type": "code",
   "execution_count": 268,
   "id": "03dd3f0c",
   "metadata": {},
   "outputs": [],
   "source": [
    "# Create a subset data set with only top 25 items\n",
    "df_top_25_selling_items = df_ords_prods_cust_merged_4[df_ords_prods_cust_merged_4['selling_performance']=='Top 25 selling product']"
   ]
  },
  {
   "cell_type": "code",
   "execution_count": 269,
   "id": "e86cea7d",
   "metadata": {},
   "outputs": [
    {
     "data": {
      "image/png": "[encoded data removed]",
      "text/plain": [
       "<Figure size 432x288 with 1 Axes>"
      ]
     },
     "metadata": {
      "needs_background": "light"
     },
     "output_type": "display_data"
    }
   ],
   "source": [
    "# Create top 25 selling items bar chart\n",
    "bar_top_25_selling_items = df_top_25_selling_items['product_name'].value_counts().plot.bar(color = sns.color_palette('YlGnBu_r', 25))\n",
    "plt.tight_layout()"
   ]
  },
  {
   "cell_type": "code",
   "execution_count": 323,
   "id": "557dbf8e",
   "metadata": {},
   "outputs": [],
   "source": [
    "# crosstab gender and order\n",
    "gender_order_number = pd.crosstab(df_ords_prods_cust_merged_4['gender'], df_ords_prods_cust_merged_4['frequency_flag'], dropna = False)"
   ]
  },
  {
   "cell_type": "code",
   "execution_count": 324,
   "id": "659832ac",
   "metadata": {
    "scrolled": true
   },
   "outputs": [
    {
     "data": {
      "image/png": "[encoded data removed]",
      "text/plain": [
       "<Figure size 432x288 with 1 Axes>"
      ]
     },
     "metadata": {
      "needs_background": "light"
     },
     "output_type": "display_data"
    }
   ],
   "source": [
    "# Create gender and order\n",
    "bar_gender_order_number = gender_order_number.plot(kind = 'bar', stacked = True, color = sns.color_palette('coolwarm', 3))\n",
    "plt.xticks(rotation= 20, horizontalalignment=\"center\")\n",
    "plt.tight_layout()"
   ]
  },
  {
   "cell_type": "code",
   "execution_count": 325,
   "id": "cf4e666f",
   "metadata": {},
   "outputs": [],
   "source": [
    "# Export gender and order\n",
    "bar_gender_order_number.figure.savefig(os.path.join(path, '04 Analysis','Visualizations', 'bar_gender_order_number .png'))"
   ]
  },
  {
   "cell_type": "code",
   "execution_count": 270,
   "id": "e40324ca",
   "metadata": {},
   "outputs": [],
   "source": [
    "# Export top 25 selling items\n",
    "bar_top_25_selling_items.figure.savefig(os.path.join(path,'04 Analysis','Visualizations','top_25_selling_items.png'))"
   ]
  },
  {
   "cell_type": "code",
   "execution_count": null,
   "id": "83801c09",
   "metadata": {},
   "outputs": [],
   "source": [
    "# Export latest note book\n",
    "df_ords_prods_cust_merged_5.to_pickle(os.path.join(path,'02 Data','Prepared Data','orders_products_merged_8.pkl'))"
   ]
  }
 ],
 "metadata": {
  "kernelspec": {
   "display_name": "Python 3",
   "language": "python",
   "name": "python3"
  },
  "language_info": {
   "codemirror_mode": {
    "name": "ipython",
    "version": 3
   },
   "file_extension": ".py",
   "mimetype": "text/x-python",
   "name": "python",
   "nbconvert_exporter": "python",
   "pygments_lexer": "ipython3",
   "version": "3.8.8"
  }
 },
 "nbformat": 4,
 "nbformat_minor": 5
}
